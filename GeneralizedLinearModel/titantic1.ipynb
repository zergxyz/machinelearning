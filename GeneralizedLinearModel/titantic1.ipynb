{
 "cells": [
  {
   "cell_type": "markdown",
   "metadata": {
    "_cell_guid": "d11dd1d4-4d4c-431e-a871-04020eef778f",
    "_uuid": "ccef06a134f4426aae32e1e69d9e9cead36fe088"
   },
   "source": [
    "# Kaggle Titanic Supervised Learning Tutorial"
   ]
  },
  {
   "cell_type": "markdown",
   "metadata": {
    "_cell_guid": "284e99a4-b5d3-4950-bc29-35217aabccaa",
    "_uuid": "3d99c2f6dbb4a9cb7147b004708f38765ca74b77"
   },
   "source": [
    "## 1. Introduction to Kaggle"
   ]
  },
  {
   "cell_type": "markdown",
   "metadata": {
    "_cell_guid": "93f8158e-5a84-42a2-9331-f88bb58e6074",
    "_uuid": "df8c0476ecc3147ceeb4f508133682cb74a4e979"
   },
   "source": [
    "[Kaggle](http://www.kaggle.com) is a site where people create algorithms and compete against machine learning practitioners around the world. Your algorithm wins the competition if it's the most accurate on a particular data set. Kaggle is a fun way to practice your machine learning skills.\n",
    "\n",
    "In this mission we're going to learn how to compete in Kaggle competitions. In this introductory mission we'll learn how to:\n",
    "\n",
    "* Approach a Kaggle competition\n",
    "* Explore the competition data and learn about the competition topic\n",
    "* Prepare data for machine learning\n",
    "* Train a model\n",
    "* Measure the accuracy of your model\n",
    "* Prepare and make your first Kaggle submission.\n",
    "\n",
    "Kaggle has created a number of competitions designed for beginners. The most popular of these competitions, and the one we'll be looking at, is about predicting which passengers survived the **sinking of the Titanic**.\n",
    "\n",
    "Each Kaggle competition has two key data files that you will work with - a training set and a testing set."
   ]
  },
  {
   "cell_type": "code",
   "execution_count": 2,
   "metadata": {
    "_cell_guid": "20fb8f2a-bee9-4968-a056-ef7bcc7bc15f",
    "_uuid": "00a01ffd7bbba6caad2d1a5df319ec38c00434e6"
   },
   "outputs": [
    {
     "name": "stdout",
     "output_type": "stream",
     "text": [
      "(418, 11)\n"
     ]
    }
   ],
   "source": [
    "import pandas as pd\n",
    "\n",
    "test = pd.read_csv(\"test.csv\")\n",
    "test_shape = test.shape\n",
    "print(test_shape)"
   ]
  },
  {
   "cell_type": "markdown",
   "metadata": {
    "_cell_guid": "66778718-5a69-4cba-a096-fac563d409ae",
    "_uuid": "8c186607608719d38cf8c99fa1c44e24a49b817e"
   },
   "source": [
    "### Instructions"
   ]
  },
  {
   "cell_type": "markdown",
   "metadata": {
    "_cell_guid": "75996738-d55b-417e-9361-23ab76c8df42",
    "_uuid": "b4d3f451458d237aa56d200199f9b2ed4dfe02ef"
   },
   "source": [
    "Use ```pandas.read_csv()``` to import ```train.csv``` and assign it to the variable ```train```.\n",
    "Use ```DataFrame.shape``` to calculate the number of rows and columns in ```train```, and assign the result to ```train_shape```."
   ]
  },
  {
   "cell_type": "code",
   "execution_count": 3,
   "metadata": {
    "_cell_guid": "a10e8b94-7125-4373-a642-7238849b5d29",
    "_uuid": "6fc2acd25cb5072c842da89bcbaf1d24f895ee56"
   },
   "outputs": [
    {
     "name": "stdout",
     "output_type": "stream",
     "text": [
      "(891, 12)\n"
     ]
    }
   ],
   "source": [
    "# INSERT CODE HERE\n",
    "train = pd.read_csv(\"train.csv\")\n",
    "train_shape = train.shape\n",
    "print(train_shape)"
   ]
  },
  {
   "cell_type": "markdown",
   "metadata": {
    "_cell_guid": "8ecc10e6-f77d-40ad-9a0a-5c8e7881e822",
    "_uuid": "d8ded7bcb480f74574cb0174f410e25e69e09046"
   },
   "source": [
    "## 2. Exploring the data"
   ]
  },
  {
   "cell_type": "markdown",
   "metadata": {
    "_cell_guid": "99e03ddf-2043-46bb-8570-5c4b1de61fb4",
    "_uuid": "1d8b04508654865a8a778d7d9c8bb460307bff6f"
   },
   "source": [
    "The files we read in the previous screen are available on the data page for the Titanic competition on Kaggle. That page also has a data dictionary, which explains the various columns that make up the data set. Below are the descriptions contained in that data dictionary:\n",
    "\n",
    "* *PassengerID* - A column added by Kaggle to identify each row and make submissions easier\n",
    "* *Survived* - Whether the passenger survived or not and the value we are predicting (0=No, 1=Yes)\n",
    "* *Pclass* - The class of the ticket the passenger purchased (1=1st, 2=2nd, 3=3rd)\n",
    "* *Sex* - The passenger's sex\n",
    "* *Age* - The passenger's age in years\n",
    "* *SibSp* - The number of siblings or spouses the passenger had aboard the Titanic\n",
    "* *Parch* - The number of parents or children the passenger had aboard the Titanic\n",
    "* *Ticket* - The passenger's ticket number\n",
    "* *Fare* - The fare the passenger paid\n",
    "* *Cabin* - The passenger's cabin number\n",
    "* *Embarked* - The port where the passenger embarked (C=Cherbourg, Q=Queenstown, S=Southampton)"
   ]
  },
  {
   "cell_type": "markdown",
   "metadata": {
    "_cell_guid": "48ab7d8a-e8e5-4e02-a6e7-484e30c1b1f6",
    "_uuid": "a0790f959dd864a861288b8c7ca2516a0e03ecfa"
   },
   "source": [
    "### Let's get a view of the actual data"
   ]
  },
  {
   "cell_type": "code",
   "execution_count": 5,
   "metadata": {
    "_cell_guid": "5fb11aa8-2639-42b5-bd7d-5d14e9272d8e",
    "_uuid": "52198316fd2bb160b62cf034212e7a032c994aab"
   },
   "outputs": [
    {
     "data": {
      "text/html": [
       "<div>\n",
       "<style>\n",
       "    .dataframe thead tr:only-child th {\n",
       "        text-align: right;\n",
       "    }\n",
       "\n",
       "    .dataframe thead th {\n",
       "        text-align: left;\n",
       "    }\n",
       "\n",
       "    .dataframe tbody tr th {\n",
       "        vertical-align: top;\n",
       "    }\n",
       "</style>\n",
       "<table border=\"1\" class=\"dataframe\">\n",
       "  <thead>\n",
       "    <tr style=\"text-align: right;\">\n",
       "      <th></th>\n",
       "      <th>PassengerId</th>\n",
       "      <th>Survived</th>\n",
       "      <th>Pclass</th>\n",
       "      <th>Name</th>\n",
       "      <th>Sex</th>\n",
       "      <th>Age</th>\n",
       "      <th>SibSp</th>\n",
       "      <th>Parch</th>\n",
       "      <th>Ticket</th>\n",
       "      <th>Fare</th>\n",
       "      <th>Cabin</th>\n",
       "      <th>Embarked</th>\n",
       "    </tr>\n",
       "  </thead>\n",
       "  <tbody>\n",
       "    <tr>\n",
       "      <th>881</th>\n",
       "      <td>882</td>\n",
       "      <td>0</td>\n",
       "      <td>3</td>\n",
       "      <td>Markun, Mr. Johann</td>\n",
       "      <td>male</td>\n",
       "      <td>33.0</td>\n",
       "      <td>0</td>\n",
       "      <td>0</td>\n",
       "      <td>349257</td>\n",
       "      <td>7.8958</td>\n",
       "      <td>NaN</td>\n",
       "      <td>S</td>\n",
       "    </tr>\n",
       "    <tr>\n",
       "      <th>882</th>\n",
       "      <td>883</td>\n",
       "      <td>0</td>\n",
       "      <td>3</td>\n",
       "      <td>Dahlberg, Miss. Gerda Ulrika</td>\n",
       "      <td>female</td>\n",
       "      <td>22.0</td>\n",
       "      <td>0</td>\n",
       "      <td>0</td>\n",
       "      <td>7552</td>\n",
       "      <td>10.5167</td>\n",
       "      <td>NaN</td>\n",
       "      <td>S</td>\n",
       "    </tr>\n",
       "    <tr>\n",
       "      <th>883</th>\n",
       "      <td>884</td>\n",
       "      <td>0</td>\n",
       "      <td>2</td>\n",
       "      <td>Banfield, Mr. Frederick James</td>\n",
       "      <td>male</td>\n",
       "      <td>28.0</td>\n",
       "      <td>0</td>\n",
       "      <td>0</td>\n",
       "      <td>C.A./SOTON 34068</td>\n",
       "      <td>10.5000</td>\n",
       "      <td>NaN</td>\n",
       "      <td>S</td>\n",
       "    </tr>\n",
       "    <tr>\n",
       "      <th>884</th>\n",
       "      <td>885</td>\n",
       "      <td>0</td>\n",
       "      <td>3</td>\n",
       "      <td>Sutehall, Mr. Henry Jr</td>\n",
       "      <td>male</td>\n",
       "      <td>25.0</td>\n",
       "      <td>0</td>\n",
       "      <td>0</td>\n",
       "      <td>SOTON/OQ 392076</td>\n",
       "      <td>7.0500</td>\n",
       "      <td>NaN</td>\n",
       "      <td>S</td>\n",
       "    </tr>\n",
       "    <tr>\n",
       "      <th>885</th>\n",
       "      <td>886</td>\n",
       "      <td>0</td>\n",
       "      <td>3</td>\n",
       "      <td>Rice, Mrs. William (Margaret Norton)</td>\n",
       "      <td>female</td>\n",
       "      <td>39.0</td>\n",
       "      <td>0</td>\n",
       "      <td>5</td>\n",
       "      <td>382652</td>\n",
       "      <td>29.1250</td>\n",
       "      <td>NaN</td>\n",
       "      <td>Q</td>\n",
       "    </tr>\n",
       "    <tr>\n",
       "      <th>886</th>\n",
       "      <td>887</td>\n",
       "      <td>0</td>\n",
       "      <td>2</td>\n",
       "      <td>Montvila, Rev. Juozas</td>\n",
       "      <td>male</td>\n",
       "      <td>27.0</td>\n",
       "      <td>0</td>\n",
       "      <td>0</td>\n",
       "      <td>211536</td>\n",
       "      <td>13.0000</td>\n",
       "      <td>NaN</td>\n",
       "      <td>S</td>\n",
       "    </tr>\n",
       "    <tr>\n",
       "      <th>887</th>\n",
       "      <td>888</td>\n",
       "      <td>1</td>\n",
       "      <td>1</td>\n",
       "      <td>Graham, Miss. Margaret Edith</td>\n",
       "      <td>female</td>\n",
       "      <td>19.0</td>\n",
       "      <td>0</td>\n",
       "      <td>0</td>\n",
       "      <td>112053</td>\n",
       "      <td>30.0000</td>\n",
       "      <td>B42</td>\n",
       "      <td>S</td>\n",
       "    </tr>\n",
       "    <tr>\n",
       "      <th>888</th>\n",
       "      <td>889</td>\n",
       "      <td>0</td>\n",
       "      <td>3</td>\n",
       "      <td>Johnston, Miss. Catherine Helen \"Carrie\"</td>\n",
       "      <td>female</td>\n",
       "      <td>NaN</td>\n",
       "      <td>1</td>\n",
       "      <td>2</td>\n",
       "      <td>W./C. 6607</td>\n",
       "      <td>23.4500</td>\n",
       "      <td>NaN</td>\n",
       "      <td>S</td>\n",
       "    </tr>\n",
       "    <tr>\n",
       "      <th>889</th>\n",
       "      <td>890</td>\n",
       "      <td>1</td>\n",
       "      <td>1</td>\n",
       "      <td>Behr, Mr. Karl Howell</td>\n",
       "      <td>male</td>\n",
       "      <td>26.0</td>\n",
       "      <td>0</td>\n",
       "      <td>0</td>\n",
       "      <td>111369</td>\n",
       "      <td>30.0000</td>\n",
       "      <td>C148</td>\n",
       "      <td>C</td>\n",
       "    </tr>\n",
       "    <tr>\n",
       "      <th>890</th>\n",
       "      <td>891</td>\n",
       "      <td>0</td>\n",
       "      <td>3</td>\n",
       "      <td>Dooley, Mr. Patrick</td>\n",
       "      <td>male</td>\n",
       "      <td>32.0</td>\n",
       "      <td>0</td>\n",
       "      <td>0</td>\n",
       "      <td>370376</td>\n",
       "      <td>7.7500</td>\n",
       "      <td>NaN</td>\n",
       "      <td>Q</td>\n",
       "    </tr>\n",
       "  </tbody>\n",
       "</table>\n",
       "</div>"
      ],
      "text/plain": [
       "     PassengerId  Survived  Pclass                                      Name  \\\n",
       "881          882         0       3                        Markun, Mr. Johann   \n",
       "882          883         0       3              Dahlberg, Miss. Gerda Ulrika   \n",
       "883          884         0       2             Banfield, Mr. Frederick James   \n",
       "884          885         0       3                    Sutehall, Mr. Henry Jr   \n",
       "885          886         0       3      Rice, Mrs. William (Margaret Norton)   \n",
       "886          887         0       2                     Montvila, Rev. Juozas   \n",
       "887          888         1       1              Graham, Miss. Margaret Edith   \n",
       "888          889         0       3  Johnston, Miss. Catherine Helen \"Carrie\"   \n",
       "889          890         1       1                     Behr, Mr. Karl Howell   \n",
       "890          891         0       3                       Dooley, Mr. Patrick   \n",
       "\n",
       "        Sex   Age  SibSp  Parch            Ticket     Fare Cabin Embarked  \n",
       "881    male  33.0      0      0            349257   7.8958   NaN        S  \n",
       "882  female  22.0      0      0              7552  10.5167   NaN        S  \n",
       "883    male  28.0      0      0  C.A./SOTON 34068  10.5000   NaN        S  \n",
       "884    male  25.0      0      0   SOTON/OQ 392076   7.0500   NaN        S  \n",
       "885  female  39.0      0      5            382652  29.1250   NaN        Q  \n",
       "886    male  27.0      0      0            211536  13.0000   NaN        S  \n",
       "887  female  19.0      0      0            112053  30.0000   B42        S  \n",
       "888  female   NaN      1      2        W./C. 6607  23.4500   NaN        S  \n",
       "889    male  26.0      0      0            111369  30.0000  C148        C  \n",
       "890    male  32.0      0      0            370376   7.7500   NaN        Q  "
      ]
     },
     "execution_count": 5,
     "metadata": {},
     "output_type": "execute_result"
    }
   ],
   "source": [
    "train.tail(10)"
   ]
  },
  {
   "cell_type": "markdown",
   "metadata": {
    "_cell_guid": "b7f83e22-555d-4d4f-beac-7dbc38b2ee16",
    "_uuid": "8842075e76806e0d41c2580cc7e32b6684e43f0a"
   },
   "source": [
    "The type of machine learning we will be doing is called classification, because when we make predictions we are classifying each passenger as survived or not. More specifically, we are performing binary classification, which means that there are only two different states we are classifying.\n",
    "\n",
    "In any machine learning exercise, thinking about the topic you are predicting is very important. We call this step acquiring domain knowledge, and it's one of the most important determinants for success in machine learning.\n",
    "\n",
    "In this case, understanding the Titanic disaster and specifically what variables might affect the outcome of survival is important. Anyone who has watched the movie Titanic would remember that women and children were given preference to lifeboats (as they were in real life). You would also remember the vast class disparity of the passengers.\n",
    "\n",
    "This indicates that Age, Sex, and PClass may be good predictors of survival. We'll start by exploring Sex and Pclass by visualizing the data.\n",
    "\n",
    "Because the Survived column contains 0 if the passenger did not survive and 1 if they did, we can segment our data by sex and calculate the mean of this column. We can use DataFrame.pivot_table() to easily do this:"
   ]
  },
  {
   "cell_type": "code",
   "execution_count": 6,
   "metadata": {
    "_cell_guid": "b30c2e05-cc81-41d6-b77e-2a4ea7eb5d24",
    "_uuid": "33177b28867de369917fc6a183cac2be576b0580"
   },
   "outputs": [
    {
     "data": {
      "text/html": [
       "<div>\n",
       "<style>\n",
       "    .dataframe thead tr:only-child th {\n",
       "        text-align: right;\n",
       "    }\n",
       "\n",
       "    .dataframe thead th {\n",
       "        text-align: left;\n",
       "    }\n",
       "\n",
       "    .dataframe tbody tr th {\n",
       "        vertical-align: top;\n",
       "    }\n",
       "</style>\n",
       "<table border=\"1\" class=\"dataframe\">\n",
       "  <thead>\n",
       "    <tr style=\"text-align: right;\">\n",
       "      <th></th>\n",
       "      <th>Survived</th>\n",
       "    </tr>\n",
       "    <tr>\n",
       "      <th>Sex</th>\n",
       "      <th></th>\n",
       "    </tr>\n",
       "  </thead>\n",
       "  <tbody>\n",
       "    <tr>\n",
       "      <th>female</th>\n",
       "      <td>0.742038</td>\n",
       "    </tr>\n",
       "    <tr>\n",
       "      <th>male</th>\n",
       "      <td>0.188908</td>\n",
       "    </tr>\n",
       "  </tbody>\n",
       "</table>\n",
       "</div>"
      ],
      "text/plain": [
       "        Survived\n",
       "Sex             \n",
       "female  0.742038\n",
       "male    0.188908"
      ]
     },
     "execution_count": 6,
     "metadata": {},
     "output_type": "execute_result"
    }
   ],
   "source": [
    "import matplotlib.pyplot as plt\n",
    "\n",
    "sex_pivot = train.pivot_table(index=\"Sex\",values=\"Survived\")\n",
    "sex_pivot\n",
    "\n",
    "# sex_pivot.plot.bar()\n",
    "# plt.show()"
   ]
  },
  {
   "cell_type": "markdown",
   "metadata": {
    "_cell_guid": "e430584a-c0f9-48a7-b1b6-2cf908b877a4",
    "_uuid": "22e752af3e8d31c55af33600ec47da0e3113eaed"
   },
   "source": [
    "We can immediately see that females survived in much higher proportions than males did.\n",
    "\n",
    "Let's do the same with the Pclass column."
   ]
  },
  {
   "cell_type": "markdown",
   "metadata": {
    "_cell_guid": "8092753f-9131-47a6-b753-1b702b57b289",
    "_uuid": "a89f8dca61310761150c56a341e5dacdef8c2590"
   },
   "source": [
    "### Instructions"
   ]
  },
  {
   "cell_type": "markdown",
   "metadata": {
    "_cell_guid": "cc62f888-ddd1-4ef0-96f2-7467768c83f3",
    "_uuid": "1d352c346ebdcf85420a8bc399019a1e36a3f646"
   },
   "source": [
    "* Use ```DataFrame.pivot_table()``` to pivot the ```train``` dataframe:\n",
    "    * Use \"Pclass\" for the index parameter.\n",
    "    * Use \"Survived\" for the values parameter.\n",
    "* Use ```DataFrame.plot.bar()``` to plot the pivot table."
   ]
  },
  {
   "cell_type": "code",
   "execution_count": 14,
   "metadata": {
    "_cell_guid": "a764ffaf-ce57-400a-bffe-37b35dbd1811",
    "_uuid": "cd3fc00d5b7d16629dd60202783d9bf7bb811a9d"
   },
   "outputs": [
    {
     "data": {
      "text/html": [
       "<div>\n",
       "<style>\n",
       "    .dataframe thead tr:only-child th {\n",
       "        text-align: right;\n",
       "    }\n",
       "\n",
       "    .dataframe thead th {\n",
       "        text-align: left;\n",
       "    }\n",
       "\n",
       "    .dataframe tbody tr th {\n",
       "        vertical-align: top;\n",
       "    }\n",
       "</style>\n",
       "<table border=\"1\" class=\"dataframe\">\n",
       "  <thead>\n",
       "    <tr style=\"text-align: right;\">\n",
       "      <th></th>\n",
       "      <th>Survived</th>\n",
       "    </tr>\n",
       "    <tr>\n",
       "      <th>Pclass</th>\n",
       "      <th></th>\n",
       "    </tr>\n",
       "  </thead>\n",
       "  <tbody>\n",
       "    <tr>\n",
       "      <th>1</th>\n",
       "      <td>0.629630</td>\n",
       "    </tr>\n",
       "    <tr>\n",
       "      <th>2</th>\n",
       "      <td>0.472826</td>\n",
       "    </tr>\n",
       "    <tr>\n",
       "      <th>3</th>\n",
       "      <td>0.242363</td>\n",
       "    </tr>\n",
       "  </tbody>\n",
       "</table>\n",
       "</div>"
      ],
      "text/plain": [
       "        Survived\n",
       "Pclass          \n",
       "1       0.629630\n",
       "2       0.472826\n",
       "3       0.242363"
      ]
     },
     "execution_count": 14,
     "metadata": {},
     "output_type": "execute_result"
    }
   ],
   "source": [
    "pclass_pivot = train.pivot_table(index=\"Pclass\",values=\"Survived\")\n",
    "pclass_pivot\n",
    "# pclass_pivot.plot.bar()\n",
    "# plt.show()"
   ]
  },
  {
   "cell_type": "markdown",
   "metadata": {
    "_cell_guid": "d518c8fb-7834-4695-9965-ff7b5b52df85",
    "_uuid": "f0161b6e05e13e10eda2b11a014b8211e4982a2b"
   },
   "source": [
    "## 3. Exploring and Converting the age column"
   ]
  },
  {
   "cell_type": "markdown",
   "metadata": {
    "_cell_guid": "effa13af-608d-473a-8ff5-cf2f84d5d4b7",
    "_uuid": "83ab7c68a988faa94db88831400b8e9b77f4fb6f"
   },
   "source": [
    "The Sex and PClass columns are what we call categorical features. That means that the values represented a few separate options (for instance, whether the passenger was male or female).\n",
    "\n",
    "Let's take a look at the Age column using [```Series.describe()```](http://pandas.pydata.org/pandas-docs/stable/generated/pandas.Series.describe.html). "
   ]
  },
  {
   "cell_type": "code",
   "execution_count": 15,
   "metadata": {
    "_cell_guid": "b23178a4-cac6-41e6-b9d8-41082f001568",
    "_uuid": "fd39a213c2847f57bee05b7d55e1f23aea3a9686"
   },
   "outputs": [
    {
     "data": {
      "text/plain": [
       "count    714.000000\n",
       "mean      29.699118\n",
       "std       14.526497\n",
       "min        0.420000\n",
       "25%       20.125000\n",
       "50%       28.000000\n",
       "75%       38.000000\n",
       "max       80.000000\n",
       "Name: Age, dtype: float64"
      ]
     },
     "execution_count": 15,
     "metadata": {},
     "output_type": "execute_result"
    }
   ],
   "source": [
    "train['Age'].describe()"
   ]
  },
  {
   "cell_type": "markdown",
   "metadata": {
    "_cell_guid": "e1f13642-70a1-4e69-b4b1-f865cf72a393",
    "_uuid": "e13276a82d84ecb6920239e79e2a05e503d777e9"
   },
   "source": [
    "The Age column contains numbers ranging from 0.42 to 80.0 (If you look at Kaggle's data page, it informs us that Age is fractional if the passenger is less than one). The other thing to note here is that there are 714 values in this column, fewer than the 814 rows we discovered that the train data set had earlier in this mission which indicates we have some missing values.\n",
    "\n",
    "All of this means that the Age column needs to be treated slightly differently, as this is a continuous numerical column. One way to look at distribution of values in a continuous numerical set is to use histograms. We can create two histograms to compare visually the those that survived vs those who died across different age ranges:"
   ]
  },
  {
   "cell_type": "code",
   "execution_count": 16,
   "metadata": {
    "_cell_guid": "89c3da43-2d36-4210-973a-be337054e3cd",
    "_uuid": "0d486d20bf73c9d5aac33c9326ce4cf1c3896b8d"
   },
   "outputs": [
    {
     "data": {
      "text/html": [
       "<div>\n",
       "<style>\n",
       "    .dataframe thead tr:only-child th {\n",
       "        text-align: right;\n",
       "    }\n",
       "\n",
       "    .dataframe thead th {\n",
       "        text-align: left;\n",
       "    }\n",
       "\n",
       "    .dataframe tbody tr th {\n",
       "        vertical-align: top;\n",
       "    }\n",
       "</style>\n",
       "<table border=\"1\" class=\"dataframe\">\n",
       "  <thead>\n",
       "    <tr style=\"text-align: right;\">\n",
       "      <th></th>\n",
       "      <th>PassengerId</th>\n",
       "      <th>Survived</th>\n",
       "      <th>Pclass</th>\n",
       "      <th>Name</th>\n",
       "      <th>Sex</th>\n",
       "      <th>Age</th>\n",
       "      <th>SibSp</th>\n",
       "      <th>Parch</th>\n",
       "      <th>Ticket</th>\n",
       "      <th>Fare</th>\n",
       "      <th>Cabin</th>\n",
       "      <th>Embarked</th>\n",
       "    </tr>\n",
       "  </thead>\n",
       "  <tbody>\n",
       "    <tr>\n",
       "      <th>1</th>\n",
       "      <td>2</td>\n",
       "      <td>1</td>\n",
       "      <td>1</td>\n",
       "      <td>Cumings, Mrs. John Bradley (Florence Briggs Th...</td>\n",
       "      <td>female</td>\n",
       "      <td>38.00</td>\n",
       "      <td>1</td>\n",
       "      <td>0</td>\n",
       "      <td>PC 17599</td>\n",
       "      <td>71.2833</td>\n",
       "      <td>C85</td>\n",
       "      <td>C</td>\n",
       "    </tr>\n",
       "    <tr>\n",
       "      <th>2</th>\n",
       "      <td>3</td>\n",
       "      <td>1</td>\n",
       "      <td>3</td>\n",
       "      <td>Heikkinen, Miss. Laina</td>\n",
       "      <td>female</td>\n",
       "      <td>26.00</td>\n",
       "      <td>0</td>\n",
       "      <td>0</td>\n",
       "      <td>STON/O2. 3101282</td>\n",
       "      <td>7.9250</td>\n",
       "      <td>NaN</td>\n",
       "      <td>S</td>\n",
       "    </tr>\n",
       "    <tr>\n",
       "      <th>3</th>\n",
       "      <td>4</td>\n",
       "      <td>1</td>\n",
       "      <td>1</td>\n",
       "      <td>Futrelle, Mrs. Jacques Heath (Lily May Peel)</td>\n",
       "      <td>female</td>\n",
       "      <td>35.00</td>\n",
       "      <td>1</td>\n",
       "      <td>0</td>\n",
       "      <td>113803</td>\n",
       "      <td>53.1000</td>\n",
       "      <td>C123</td>\n",
       "      <td>S</td>\n",
       "    </tr>\n",
       "    <tr>\n",
       "      <th>8</th>\n",
       "      <td>9</td>\n",
       "      <td>1</td>\n",
       "      <td>3</td>\n",
       "      <td>Johnson, Mrs. Oscar W (Elisabeth Vilhelmina Berg)</td>\n",
       "      <td>female</td>\n",
       "      <td>27.00</td>\n",
       "      <td>0</td>\n",
       "      <td>2</td>\n",
       "      <td>347742</td>\n",
       "      <td>11.1333</td>\n",
       "      <td>NaN</td>\n",
       "      <td>S</td>\n",
       "    </tr>\n",
       "    <tr>\n",
       "      <th>9</th>\n",
       "      <td>10</td>\n",
       "      <td>1</td>\n",
       "      <td>2</td>\n",
       "      <td>Nasser, Mrs. Nicholas (Adele Achem)</td>\n",
       "      <td>female</td>\n",
       "      <td>14.00</td>\n",
       "      <td>1</td>\n",
       "      <td>0</td>\n",
       "      <td>237736</td>\n",
       "      <td>30.0708</td>\n",
       "      <td>NaN</td>\n",
       "      <td>C</td>\n",
       "    </tr>\n",
       "    <tr>\n",
       "      <th>10</th>\n",
       "      <td>11</td>\n",
       "      <td>1</td>\n",
       "      <td>3</td>\n",
       "      <td>Sandstrom, Miss. Marguerite Rut</td>\n",
       "      <td>female</td>\n",
       "      <td>4.00</td>\n",
       "      <td>1</td>\n",
       "      <td>1</td>\n",
       "      <td>PP 9549</td>\n",
       "      <td>16.7000</td>\n",
       "      <td>G6</td>\n",
       "      <td>S</td>\n",
       "    </tr>\n",
       "    <tr>\n",
       "      <th>11</th>\n",
       "      <td>12</td>\n",
       "      <td>1</td>\n",
       "      <td>1</td>\n",
       "      <td>Bonnell, Miss. Elizabeth</td>\n",
       "      <td>female</td>\n",
       "      <td>58.00</td>\n",
       "      <td>0</td>\n",
       "      <td>0</td>\n",
       "      <td>113783</td>\n",
       "      <td>26.5500</td>\n",
       "      <td>C103</td>\n",
       "      <td>S</td>\n",
       "    </tr>\n",
       "    <tr>\n",
       "      <th>15</th>\n",
       "      <td>16</td>\n",
       "      <td>1</td>\n",
       "      <td>2</td>\n",
       "      <td>Hewlett, Mrs. (Mary D Kingcome)</td>\n",
       "      <td>female</td>\n",
       "      <td>55.00</td>\n",
       "      <td>0</td>\n",
       "      <td>0</td>\n",
       "      <td>248706</td>\n",
       "      <td>16.0000</td>\n",
       "      <td>NaN</td>\n",
       "      <td>S</td>\n",
       "    </tr>\n",
       "    <tr>\n",
       "      <th>17</th>\n",
       "      <td>18</td>\n",
       "      <td>1</td>\n",
       "      <td>2</td>\n",
       "      <td>Williams, Mr. Charles Eugene</td>\n",
       "      <td>male</td>\n",
       "      <td>NaN</td>\n",
       "      <td>0</td>\n",
       "      <td>0</td>\n",
       "      <td>244373</td>\n",
       "      <td>13.0000</td>\n",
       "      <td>NaN</td>\n",
       "      <td>S</td>\n",
       "    </tr>\n",
       "    <tr>\n",
       "      <th>19</th>\n",
       "      <td>20</td>\n",
       "      <td>1</td>\n",
       "      <td>3</td>\n",
       "      <td>Masselmani, Mrs. Fatima</td>\n",
       "      <td>female</td>\n",
       "      <td>NaN</td>\n",
       "      <td>0</td>\n",
       "      <td>0</td>\n",
       "      <td>2649</td>\n",
       "      <td>7.2250</td>\n",
       "      <td>NaN</td>\n",
       "      <td>C</td>\n",
       "    </tr>\n",
       "    <tr>\n",
       "      <th>21</th>\n",
       "      <td>22</td>\n",
       "      <td>1</td>\n",
       "      <td>2</td>\n",
       "      <td>Beesley, Mr. Lawrence</td>\n",
       "      <td>male</td>\n",
       "      <td>34.00</td>\n",
       "      <td>0</td>\n",
       "      <td>0</td>\n",
       "      <td>248698</td>\n",
       "      <td>13.0000</td>\n",
       "      <td>D56</td>\n",
       "      <td>S</td>\n",
       "    </tr>\n",
       "    <tr>\n",
       "      <th>22</th>\n",
       "      <td>23</td>\n",
       "      <td>1</td>\n",
       "      <td>3</td>\n",
       "      <td>McGowan, Miss. Anna \"Annie\"</td>\n",
       "      <td>female</td>\n",
       "      <td>15.00</td>\n",
       "      <td>0</td>\n",
       "      <td>0</td>\n",
       "      <td>330923</td>\n",
       "      <td>8.0292</td>\n",
       "      <td>NaN</td>\n",
       "      <td>Q</td>\n",
       "    </tr>\n",
       "    <tr>\n",
       "      <th>23</th>\n",
       "      <td>24</td>\n",
       "      <td>1</td>\n",
       "      <td>1</td>\n",
       "      <td>Sloper, Mr. William Thompson</td>\n",
       "      <td>male</td>\n",
       "      <td>28.00</td>\n",
       "      <td>0</td>\n",
       "      <td>0</td>\n",
       "      <td>113788</td>\n",
       "      <td>35.5000</td>\n",
       "      <td>A6</td>\n",
       "      <td>S</td>\n",
       "    </tr>\n",
       "    <tr>\n",
       "      <th>25</th>\n",
       "      <td>26</td>\n",
       "      <td>1</td>\n",
       "      <td>3</td>\n",
       "      <td>Asplund, Mrs. Carl Oscar (Selma Augusta Emilia...</td>\n",
       "      <td>female</td>\n",
       "      <td>38.00</td>\n",
       "      <td>1</td>\n",
       "      <td>5</td>\n",
       "      <td>347077</td>\n",
       "      <td>31.3875</td>\n",
       "      <td>NaN</td>\n",
       "      <td>S</td>\n",
       "    </tr>\n",
       "    <tr>\n",
       "      <th>28</th>\n",
       "      <td>29</td>\n",
       "      <td>1</td>\n",
       "      <td>3</td>\n",
       "      <td>O'Dwyer, Miss. Ellen \"Nellie\"</td>\n",
       "      <td>female</td>\n",
       "      <td>NaN</td>\n",
       "      <td>0</td>\n",
       "      <td>0</td>\n",
       "      <td>330959</td>\n",
       "      <td>7.8792</td>\n",
       "      <td>NaN</td>\n",
       "      <td>Q</td>\n",
       "    </tr>\n",
       "    <tr>\n",
       "      <th>31</th>\n",
       "      <td>32</td>\n",
       "      <td>1</td>\n",
       "      <td>1</td>\n",
       "      <td>Spencer, Mrs. William Augustus (Marie Eugenie)</td>\n",
       "      <td>female</td>\n",
       "      <td>NaN</td>\n",
       "      <td>1</td>\n",
       "      <td>0</td>\n",
       "      <td>PC 17569</td>\n",
       "      <td>146.5208</td>\n",
       "      <td>B78</td>\n",
       "      <td>C</td>\n",
       "    </tr>\n",
       "    <tr>\n",
       "      <th>32</th>\n",
       "      <td>33</td>\n",
       "      <td>1</td>\n",
       "      <td>3</td>\n",
       "      <td>Glynn, Miss. Mary Agatha</td>\n",
       "      <td>female</td>\n",
       "      <td>NaN</td>\n",
       "      <td>0</td>\n",
       "      <td>0</td>\n",
       "      <td>335677</td>\n",
       "      <td>7.7500</td>\n",
       "      <td>NaN</td>\n",
       "      <td>Q</td>\n",
       "    </tr>\n",
       "    <tr>\n",
       "      <th>36</th>\n",
       "      <td>37</td>\n",
       "      <td>1</td>\n",
       "      <td>3</td>\n",
       "      <td>Mamee, Mr. Hanna</td>\n",
       "      <td>male</td>\n",
       "      <td>NaN</td>\n",
       "      <td>0</td>\n",
       "      <td>0</td>\n",
       "      <td>2677</td>\n",
       "      <td>7.2292</td>\n",
       "      <td>NaN</td>\n",
       "      <td>C</td>\n",
       "    </tr>\n",
       "    <tr>\n",
       "      <th>39</th>\n",
       "      <td>40</td>\n",
       "      <td>1</td>\n",
       "      <td>3</td>\n",
       "      <td>Nicola-Yarred, Miss. Jamila</td>\n",
       "      <td>female</td>\n",
       "      <td>14.00</td>\n",
       "      <td>1</td>\n",
       "      <td>0</td>\n",
       "      <td>2651</td>\n",
       "      <td>11.2417</td>\n",
       "      <td>NaN</td>\n",
       "      <td>C</td>\n",
       "    </tr>\n",
       "    <tr>\n",
       "      <th>43</th>\n",
       "      <td>44</td>\n",
       "      <td>1</td>\n",
       "      <td>2</td>\n",
       "      <td>Laroche, Miss. Simonne Marie Anne Andree</td>\n",
       "      <td>female</td>\n",
       "      <td>3.00</td>\n",
       "      <td>1</td>\n",
       "      <td>2</td>\n",
       "      <td>SC/Paris 2123</td>\n",
       "      <td>41.5792</td>\n",
       "      <td>NaN</td>\n",
       "      <td>C</td>\n",
       "    </tr>\n",
       "    <tr>\n",
       "      <th>44</th>\n",
       "      <td>45</td>\n",
       "      <td>1</td>\n",
       "      <td>3</td>\n",
       "      <td>Devaney, Miss. Margaret Delia</td>\n",
       "      <td>female</td>\n",
       "      <td>19.00</td>\n",
       "      <td>0</td>\n",
       "      <td>0</td>\n",
       "      <td>330958</td>\n",
       "      <td>7.8792</td>\n",
       "      <td>NaN</td>\n",
       "      <td>Q</td>\n",
       "    </tr>\n",
       "    <tr>\n",
       "      <th>47</th>\n",
       "      <td>48</td>\n",
       "      <td>1</td>\n",
       "      <td>3</td>\n",
       "      <td>O'Driscoll, Miss. Bridget</td>\n",
       "      <td>female</td>\n",
       "      <td>NaN</td>\n",
       "      <td>0</td>\n",
       "      <td>0</td>\n",
       "      <td>14311</td>\n",
       "      <td>7.7500</td>\n",
       "      <td>NaN</td>\n",
       "      <td>Q</td>\n",
       "    </tr>\n",
       "    <tr>\n",
       "      <th>52</th>\n",
       "      <td>53</td>\n",
       "      <td>1</td>\n",
       "      <td>1</td>\n",
       "      <td>Harper, Mrs. Henry Sleeper (Myna Haxtun)</td>\n",
       "      <td>female</td>\n",
       "      <td>49.00</td>\n",
       "      <td>1</td>\n",
       "      <td>0</td>\n",
       "      <td>PC 17572</td>\n",
       "      <td>76.7292</td>\n",
       "      <td>D33</td>\n",
       "      <td>C</td>\n",
       "    </tr>\n",
       "    <tr>\n",
       "      <th>53</th>\n",
       "      <td>54</td>\n",
       "      <td>1</td>\n",
       "      <td>2</td>\n",
       "      <td>Faunthorpe, Mrs. Lizzie (Elizabeth Anne Wilkin...</td>\n",
       "      <td>female</td>\n",
       "      <td>29.00</td>\n",
       "      <td>1</td>\n",
       "      <td>0</td>\n",
       "      <td>2926</td>\n",
       "      <td>26.0000</td>\n",
       "      <td>NaN</td>\n",
       "      <td>S</td>\n",
       "    </tr>\n",
       "    <tr>\n",
       "      <th>55</th>\n",
       "      <td>56</td>\n",
       "      <td>1</td>\n",
       "      <td>1</td>\n",
       "      <td>Woolner, Mr. Hugh</td>\n",
       "      <td>male</td>\n",
       "      <td>NaN</td>\n",
       "      <td>0</td>\n",
       "      <td>0</td>\n",
       "      <td>19947</td>\n",
       "      <td>35.5000</td>\n",
       "      <td>C52</td>\n",
       "      <td>S</td>\n",
       "    </tr>\n",
       "    <tr>\n",
       "      <th>56</th>\n",
       "      <td>57</td>\n",
       "      <td>1</td>\n",
       "      <td>2</td>\n",
       "      <td>Rugg, Miss. Emily</td>\n",
       "      <td>female</td>\n",
       "      <td>21.00</td>\n",
       "      <td>0</td>\n",
       "      <td>0</td>\n",
       "      <td>C.A. 31026</td>\n",
       "      <td>10.5000</td>\n",
       "      <td>NaN</td>\n",
       "      <td>S</td>\n",
       "    </tr>\n",
       "    <tr>\n",
       "      <th>58</th>\n",
       "      <td>59</td>\n",
       "      <td>1</td>\n",
       "      <td>2</td>\n",
       "      <td>West, Miss. Constance Mirium</td>\n",
       "      <td>female</td>\n",
       "      <td>5.00</td>\n",
       "      <td>1</td>\n",
       "      <td>2</td>\n",
       "      <td>C.A. 34651</td>\n",
       "      <td>27.7500</td>\n",
       "      <td>NaN</td>\n",
       "      <td>S</td>\n",
       "    </tr>\n",
       "    <tr>\n",
       "      <th>61</th>\n",
       "      <td>62</td>\n",
       "      <td>1</td>\n",
       "      <td>1</td>\n",
       "      <td>Icard, Miss. Amelie</td>\n",
       "      <td>female</td>\n",
       "      <td>38.00</td>\n",
       "      <td>0</td>\n",
       "      <td>0</td>\n",
       "      <td>113572</td>\n",
       "      <td>80.0000</td>\n",
       "      <td>B28</td>\n",
       "      <td>NaN</td>\n",
       "    </tr>\n",
       "    <tr>\n",
       "      <th>65</th>\n",
       "      <td>66</td>\n",
       "      <td>1</td>\n",
       "      <td>3</td>\n",
       "      <td>Moubarek, Master. Gerios</td>\n",
       "      <td>male</td>\n",
       "      <td>NaN</td>\n",
       "      <td>1</td>\n",
       "      <td>1</td>\n",
       "      <td>2661</td>\n",
       "      <td>15.2458</td>\n",
       "      <td>NaN</td>\n",
       "      <td>C</td>\n",
       "    </tr>\n",
       "    <tr>\n",
       "      <th>66</th>\n",
       "      <td>67</td>\n",
       "      <td>1</td>\n",
       "      <td>2</td>\n",
       "      <td>Nye, Mrs. (Elizabeth Ramell)</td>\n",
       "      <td>female</td>\n",
       "      <td>29.00</td>\n",
       "      <td>0</td>\n",
       "      <td>0</td>\n",
       "      <td>C.A. 29395</td>\n",
       "      <td>10.5000</td>\n",
       "      <td>F33</td>\n",
       "      <td>S</td>\n",
       "    </tr>\n",
       "    <tr>\n",
       "      <th>...</th>\n",
       "      <td>...</td>\n",
       "      <td>...</td>\n",
       "      <td>...</td>\n",
       "      <td>...</td>\n",
       "      <td>...</td>\n",
       "      <td>...</td>\n",
       "      <td>...</td>\n",
       "      <td>...</td>\n",
       "      <td>...</td>\n",
       "      <td>...</td>\n",
       "      <td>...</td>\n",
       "      <td>...</td>\n",
       "    </tr>\n",
       "    <tr>\n",
       "      <th>809</th>\n",
       "      <td>810</td>\n",
       "      <td>1</td>\n",
       "      <td>1</td>\n",
       "      <td>Chambers, Mrs. Norman Campbell (Bertha Griggs)</td>\n",
       "      <td>female</td>\n",
       "      <td>33.00</td>\n",
       "      <td>1</td>\n",
       "      <td>0</td>\n",
       "      <td>113806</td>\n",
       "      <td>53.1000</td>\n",
       "      <td>E8</td>\n",
       "      <td>S</td>\n",
       "    </tr>\n",
       "    <tr>\n",
       "      <th>820</th>\n",
       "      <td>821</td>\n",
       "      <td>1</td>\n",
       "      <td>1</td>\n",
       "      <td>Hays, Mrs. Charles Melville (Clara Jennings Gr...</td>\n",
       "      <td>female</td>\n",
       "      <td>52.00</td>\n",
       "      <td>1</td>\n",
       "      <td>1</td>\n",
       "      <td>12749</td>\n",
       "      <td>93.5000</td>\n",
       "      <td>B69</td>\n",
       "      <td>S</td>\n",
       "    </tr>\n",
       "    <tr>\n",
       "      <th>821</th>\n",
       "      <td>822</td>\n",
       "      <td>1</td>\n",
       "      <td>3</td>\n",
       "      <td>Lulic, Mr. Nikola</td>\n",
       "      <td>male</td>\n",
       "      <td>27.00</td>\n",
       "      <td>0</td>\n",
       "      <td>0</td>\n",
       "      <td>315098</td>\n",
       "      <td>8.6625</td>\n",
       "      <td>NaN</td>\n",
       "      <td>S</td>\n",
       "    </tr>\n",
       "    <tr>\n",
       "      <th>823</th>\n",
       "      <td>824</td>\n",
       "      <td>1</td>\n",
       "      <td>3</td>\n",
       "      <td>Moor, Mrs. (Beila)</td>\n",
       "      <td>female</td>\n",
       "      <td>27.00</td>\n",
       "      <td>0</td>\n",
       "      <td>1</td>\n",
       "      <td>392096</td>\n",
       "      <td>12.4750</td>\n",
       "      <td>E121</td>\n",
       "      <td>S</td>\n",
       "    </tr>\n",
       "    <tr>\n",
       "      <th>827</th>\n",
       "      <td>828</td>\n",
       "      <td>1</td>\n",
       "      <td>2</td>\n",
       "      <td>Mallet, Master. Andre</td>\n",
       "      <td>male</td>\n",
       "      <td>1.00</td>\n",
       "      <td>0</td>\n",
       "      <td>2</td>\n",
       "      <td>S.C./PARIS 2079</td>\n",
       "      <td>37.0042</td>\n",
       "      <td>NaN</td>\n",
       "      <td>C</td>\n",
       "    </tr>\n",
       "    <tr>\n",
       "      <th>828</th>\n",
       "      <td>829</td>\n",
       "      <td>1</td>\n",
       "      <td>3</td>\n",
       "      <td>McCormack, Mr. Thomas Joseph</td>\n",
       "      <td>male</td>\n",
       "      <td>NaN</td>\n",
       "      <td>0</td>\n",
       "      <td>0</td>\n",
       "      <td>367228</td>\n",
       "      <td>7.7500</td>\n",
       "      <td>NaN</td>\n",
       "      <td>Q</td>\n",
       "    </tr>\n",
       "    <tr>\n",
       "      <th>829</th>\n",
       "      <td>830</td>\n",
       "      <td>1</td>\n",
       "      <td>1</td>\n",
       "      <td>Stone, Mrs. George Nelson (Martha Evelyn)</td>\n",
       "      <td>female</td>\n",
       "      <td>62.00</td>\n",
       "      <td>0</td>\n",
       "      <td>0</td>\n",
       "      <td>113572</td>\n",
       "      <td>80.0000</td>\n",
       "      <td>B28</td>\n",
       "      <td>NaN</td>\n",
       "    </tr>\n",
       "    <tr>\n",
       "      <th>830</th>\n",
       "      <td>831</td>\n",
       "      <td>1</td>\n",
       "      <td>3</td>\n",
       "      <td>Yasbeck, Mrs. Antoni (Selini Alexander)</td>\n",
       "      <td>female</td>\n",
       "      <td>15.00</td>\n",
       "      <td>1</td>\n",
       "      <td>0</td>\n",
       "      <td>2659</td>\n",
       "      <td>14.4542</td>\n",
       "      <td>NaN</td>\n",
       "      <td>C</td>\n",
       "    </tr>\n",
       "    <tr>\n",
       "      <th>831</th>\n",
       "      <td>832</td>\n",
       "      <td>1</td>\n",
       "      <td>2</td>\n",
       "      <td>Richards, Master. George Sibley</td>\n",
       "      <td>male</td>\n",
       "      <td>0.83</td>\n",
       "      <td>1</td>\n",
       "      <td>1</td>\n",
       "      <td>29106</td>\n",
       "      <td>18.7500</td>\n",
       "      <td>NaN</td>\n",
       "      <td>S</td>\n",
       "    </tr>\n",
       "    <tr>\n",
       "      <th>835</th>\n",
       "      <td>836</td>\n",
       "      <td>1</td>\n",
       "      <td>1</td>\n",
       "      <td>Compton, Miss. Sara Rebecca</td>\n",
       "      <td>female</td>\n",
       "      <td>39.00</td>\n",
       "      <td>1</td>\n",
       "      <td>1</td>\n",
       "      <td>PC 17756</td>\n",
       "      <td>83.1583</td>\n",
       "      <td>E49</td>\n",
       "      <td>C</td>\n",
       "    </tr>\n",
       "    <tr>\n",
       "      <th>838</th>\n",
       "      <td>839</td>\n",
       "      <td>1</td>\n",
       "      <td>3</td>\n",
       "      <td>Chip, Mr. Chang</td>\n",
       "      <td>male</td>\n",
       "      <td>32.00</td>\n",
       "      <td>0</td>\n",
       "      <td>0</td>\n",
       "      <td>1601</td>\n",
       "      <td>56.4958</td>\n",
       "      <td>NaN</td>\n",
       "      <td>S</td>\n",
       "    </tr>\n",
       "    <tr>\n",
       "      <th>839</th>\n",
       "      <td>840</td>\n",
       "      <td>1</td>\n",
       "      <td>1</td>\n",
       "      <td>Marechal, Mr. Pierre</td>\n",
       "      <td>male</td>\n",
       "      <td>NaN</td>\n",
       "      <td>0</td>\n",
       "      <td>0</td>\n",
       "      <td>11774</td>\n",
       "      <td>29.7000</td>\n",
       "      <td>C47</td>\n",
       "      <td>C</td>\n",
       "    </tr>\n",
       "    <tr>\n",
       "      <th>842</th>\n",
       "      <td>843</td>\n",
       "      <td>1</td>\n",
       "      <td>1</td>\n",
       "      <td>Serepeca, Miss. Augusta</td>\n",
       "      <td>female</td>\n",
       "      <td>30.00</td>\n",
       "      <td>0</td>\n",
       "      <td>0</td>\n",
       "      <td>113798</td>\n",
       "      <td>31.0000</td>\n",
       "      <td>NaN</td>\n",
       "      <td>C</td>\n",
       "    </tr>\n",
       "    <tr>\n",
       "      <th>849</th>\n",
       "      <td>850</td>\n",
       "      <td>1</td>\n",
       "      <td>1</td>\n",
       "      <td>Goldenberg, Mrs. Samuel L (Edwiga Grabowska)</td>\n",
       "      <td>female</td>\n",
       "      <td>NaN</td>\n",
       "      <td>1</td>\n",
       "      <td>0</td>\n",
       "      <td>17453</td>\n",
       "      <td>89.1042</td>\n",
       "      <td>C92</td>\n",
       "      <td>C</td>\n",
       "    </tr>\n",
       "    <tr>\n",
       "      <th>853</th>\n",
       "      <td>854</td>\n",
       "      <td>1</td>\n",
       "      <td>1</td>\n",
       "      <td>Lines, Miss. Mary Conover</td>\n",
       "      <td>female</td>\n",
       "      <td>16.00</td>\n",
       "      <td>0</td>\n",
       "      <td>1</td>\n",
       "      <td>PC 17592</td>\n",
       "      <td>39.4000</td>\n",
       "      <td>D28</td>\n",
       "      <td>S</td>\n",
       "    </tr>\n",
       "    <tr>\n",
       "      <th>855</th>\n",
       "      <td>856</td>\n",
       "      <td>1</td>\n",
       "      <td>3</td>\n",
       "      <td>Aks, Mrs. Sam (Leah Rosen)</td>\n",
       "      <td>female</td>\n",
       "      <td>18.00</td>\n",
       "      <td>0</td>\n",
       "      <td>1</td>\n",
       "      <td>392091</td>\n",
       "      <td>9.3500</td>\n",
       "      <td>NaN</td>\n",
       "      <td>S</td>\n",
       "    </tr>\n",
       "    <tr>\n",
       "      <th>856</th>\n",
       "      <td>857</td>\n",
       "      <td>1</td>\n",
       "      <td>1</td>\n",
       "      <td>Wick, Mrs. George Dennick (Mary Hitchcock)</td>\n",
       "      <td>female</td>\n",
       "      <td>45.00</td>\n",
       "      <td>1</td>\n",
       "      <td>1</td>\n",
       "      <td>36928</td>\n",
       "      <td>164.8667</td>\n",
       "      <td>NaN</td>\n",
       "      <td>S</td>\n",
       "    </tr>\n",
       "    <tr>\n",
       "      <th>857</th>\n",
       "      <td>858</td>\n",
       "      <td>1</td>\n",
       "      <td>1</td>\n",
       "      <td>Daly, Mr. Peter Denis</td>\n",
       "      <td>male</td>\n",
       "      <td>51.00</td>\n",
       "      <td>0</td>\n",
       "      <td>0</td>\n",
       "      <td>113055</td>\n",
       "      <td>26.5500</td>\n",
       "      <td>E17</td>\n",
       "      <td>S</td>\n",
       "    </tr>\n",
       "    <tr>\n",
       "      <th>858</th>\n",
       "      <td>859</td>\n",
       "      <td>1</td>\n",
       "      <td>3</td>\n",
       "      <td>Baclini, Mrs. Solomon (Latifa Qurban)</td>\n",
       "      <td>female</td>\n",
       "      <td>24.00</td>\n",
       "      <td>0</td>\n",
       "      <td>3</td>\n",
       "      <td>2666</td>\n",
       "      <td>19.2583</td>\n",
       "      <td>NaN</td>\n",
       "      <td>C</td>\n",
       "    </tr>\n",
       "    <tr>\n",
       "      <th>862</th>\n",
       "      <td>863</td>\n",
       "      <td>1</td>\n",
       "      <td>1</td>\n",
       "      <td>Swift, Mrs. Frederick Joel (Margaret Welles Ba...</td>\n",
       "      <td>female</td>\n",
       "      <td>48.00</td>\n",
       "      <td>0</td>\n",
       "      <td>0</td>\n",
       "      <td>17466</td>\n",
       "      <td>25.9292</td>\n",
       "      <td>D17</td>\n",
       "      <td>S</td>\n",
       "    </tr>\n",
       "    <tr>\n",
       "      <th>865</th>\n",
       "      <td>866</td>\n",
       "      <td>1</td>\n",
       "      <td>2</td>\n",
       "      <td>Bystrom, Mrs. (Karolina)</td>\n",
       "      <td>female</td>\n",
       "      <td>42.00</td>\n",
       "      <td>0</td>\n",
       "      <td>0</td>\n",
       "      <td>236852</td>\n",
       "      <td>13.0000</td>\n",
       "      <td>NaN</td>\n",
       "      <td>S</td>\n",
       "    </tr>\n",
       "    <tr>\n",
       "      <th>866</th>\n",
       "      <td>867</td>\n",
       "      <td>1</td>\n",
       "      <td>2</td>\n",
       "      <td>Duran y More, Miss. Asuncion</td>\n",
       "      <td>female</td>\n",
       "      <td>27.00</td>\n",
       "      <td>1</td>\n",
       "      <td>0</td>\n",
       "      <td>SC/PARIS 2149</td>\n",
       "      <td>13.8583</td>\n",
       "      <td>NaN</td>\n",
       "      <td>C</td>\n",
       "    </tr>\n",
       "    <tr>\n",
       "      <th>869</th>\n",
       "      <td>870</td>\n",
       "      <td>1</td>\n",
       "      <td>3</td>\n",
       "      <td>Johnson, Master. Harold Theodor</td>\n",
       "      <td>male</td>\n",
       "      <td>4.00</td>\n",
       "      <td>1</td>\n",
       "      <td>1</td>\n",
       "      <td>347742</td>\n",
       "      <td>11.1333</td>\n",
       "      <td>NaN</td>\n",
       "      <td>S</td>\n",
       "    </tr>\n",
       "    <tr>\n",
       "      <th>871</th>\n",
       "      <td>872</td>\n",
       "      <td>1</td>\n",
       "      <td>1</td>\n",
       "      <td>Beckwith, Mrs. Richard Leonard (Sallie Monypeny)</td>\n",
       "      <td>female</td>\n",
       "      <td>47.00</td>\n",
       "      <td>1</td>\n",
       "      <td>1</td>\n",
       "      <td>11751</td>\n",
       "      <td>52.5542</td>\n",
       "      <td>D35</td>\n",
       "      <td>S</td>\n",
       "    </tr>\n",
       "    <tr>\n",
       "      <th>874</th>\n",
       "      <td>875</td>\n",
       "      <td>1</td>\n",
       "      <td>2</td>\n",
       "      <td>Abelson, Mrs. Samuel (Hannah Wizosky)</td>\n",
       "      <td>female</td>\n",
       "      <td>28.00</td>\n",
       "      <td>1</td>\n",
       "      <td>0</td>\n",
       "      <td>P/PP 3381</td>\n",
       "      <td>24.0000</td>\n",
       "      <td>NaN</td>\n",
       "      <td>C</td>\n",
       "    </tr>\n",
       "    <tr>\n",
       "      <th>875</th>\n",
       "      <td>876</td>\n",
       "      <td>1</td>\n",
       "      <td>3</td>\n",
       "      <td>Najib, Miss. Adele Kiamie \"Jane\"</td>\n",
       "      <td>female</td>\n",
       "      <td>15.00</td>\n",
       "      <td>0</td>\n",
       "      <td>0</td>\n",
       "      <td>2667</td>\n",
       "      <td>7.2250</td>\n",
       "      <td>NaN</td>\n",
       "      <td>C</td>\n",
       "    </tr>\n",
       "    <tr>\n",
       "      <th>879</th>\n",
       "      <td>880</td>\n",
       "      <td>1</td>\n",
       "      <td>1</td>\n",
       "      <td>Potter, Mrs. Thomas Jr (Lily Alexenia Wilson)</td>\n",
       "      <td>female</td>\n",
       "      <td>56.00</td>\n",
       "      <td>0</td>\n",
       "      <td>1</td>\n",
       "      <td>11767</td>\n",
       "      <td>83.1583</td>\n",
       "      <td>C50</td>\n",
       "      <td>C</td>\n",
       "    </tr>\n",
       "    <tr>\n",
       "      <th>880</th>\n",
       "      <td>881</td>\n",
       "      <td>1</td>\n",
       "      <td>2</td>\n",
       "      <td>Shelley, Mrs. William (Imanita Parrish Hall)</td>\n",
       "      <td>female</td>\n",
       "      <td>25.00</td>\n",
       "      <td>0</td>\n",
       "      <td>1</td>\n",
       "      <td>230433</td>\n",
       "      <td>26.0000</td>\n",
       "      <td>NaN</td>\n",
       "      <td>S</td>\n",
       "    </tr>\n",
       "    <tr>\n",
       "      <th>887</th>\n",
       "      <td>888</td>\n",
       "      <td>1</td>\n",
       "      <td>1</td>\n",
       "      <td>Graham, Miss. Margaret Edith</td>\n",
       "      <td>female</td>\n",
       "      <td>19.00</td>\n",
       "      <td>0</td>\n",
       "      <td>0</td>\n",
       "      <td>112053</td>\n",
       "      <td>30.0000</td>\n",
       "      <td>B42</td>\n",
       "      <td>S</td>\n",
       "    </tr>\n",
       "    <tr>\n",
       "      <th>889</th>\n",
       "      <td>890</td>\n",
       "      <td>1</td>\n",
       "      <td>1</td>\n",
       "      <td>Behr, Mr. Karl Howell</td>\n",
       "      <td>male</td>\n",
       "      <td>26.00</td>\n",
       "      <td>0</td>\n",
       "      <td>0</td>\n",
       "      <td>111369</td>\n",
       "      <td>30.0000</td>\n",
       "      <td>C148</td>\n",
       "      <td>C</td>\n",
       "    </tr>\n",
       "  </tbody>\n",
       "</table>\n",
       "<p>342 rows × 12 columns</p>\n",
       "</div>"
      ],
      "text/plain": [
       "     PassengerId  Survived  Pclass  \\\n",
       "1              2         1       1   \n",
       "2              3         1       3   \n",
       "3              4         1       1   \n",
       "8              9         1       3   \n",
       "9             10         1       2   \n",
       "10            11         1       3   \n",
       "11            12         1       1   \n",
       "15            16         1       2   \n",
       "17            18         1       2   \n",
       "19            20         1       3   \n",
       "21            22         1       2   \n",
       "22            23         1       3   \n",
       "23            24         1       1   \n",
       "25            26         1       3   \n",
       "28            29         1       3   \n",
       "31            32         1       1   \n",
       "32            33         1       3   \n",
       "36            37         1       3   \n",
       "39            40         1       3   \n",
       "43            44         1       2   \n",
       "44            45         1       3   \n",
       "47            48         1       3   \n",
       "52            53         1       1   \n",
       "53            54         1       2   \n",
       "55            56         1       1   \n",
       "56            57         1       2   \n",
       "58            59         1       2   \n",
       "61            62         1       1   \n",
       "65            66         1       3   \n",
       "66            67         1       2   \n",
       "..           ...       ...     ...   \n",
       "809          810         1       1   \n",
       "820          821         1       1   \n",
       "821          822         1       3   \n",
       "823          824         1       3   \n",
       "827          828         1       2   \n",
       "828          829         1       3   \n",
       "829          830         1       1   \n",
       "830          831         1       3   \n",
       "831          832         1       2   \n",
       "835          836         1       1   \n",
       "838          839         1       3   \n",
       "839          840         1       1   \n",
       "842          843         1       1   \n",
       "849          850         1       1   \n",
       "853          854         1       1   \n",
       "855          856         1       3   \n",
       "856          857         1       1   \n",
       "857          858         1       1   \n",
       "858          859         1       3   \n",
       "862          863         1       1   \n",
       "865          866         1       2   \n",
       "866          867         1       2   \n",
       "869          870         1       3   \n",
       "871          872         1       1   \n",
       "874          875         1       2   \n",
       "875          876         1       3   \n",
       "879          880         1       1   \n",
       "880          881         1       2   \n",
       "887          888         1       1   \n",
       "889          890         1       1   \n",
       "\n",
       "                                                  Name     Sex    Age  SibSp  \\\n",
       "1    Cumings, Mrs. John Bradley (Florence Briggs Th...  female  38.00      1   \n",
       "2                               Heikkinen, Miss. Laina  female  26.00      0   \n",
       "3         Futrelle, Mrs. Jacques Heath (Lily May Peel)  female  35.00      1   \n",
       "8    Johnson, Mrs. Oscar W (Elisabeth Vilhelmina Berg)  female  27.00      0   \n",
       "9                  Nasser, Mrs. Nicholas (Adele Achem)  female  14.00      1   \n",
       "10                     Sandstrom, Miss. Marguerite Rut  female   4.00      1   \n",
       "11                            Bonnell, Miss. Elizabeth  female  58.00      0   \n",
       "15                    Hewlett, Mrs. (Mary D Kingcome)   female  55.00      0   \n",
       "17                        Williams, Mr. Charles Eugene    male    NaN      0   \n",
       "19                             Masselmani, Mrs. Fatima  female    NaN      0   \n",
       "21                               Beesley, Mr. Lawrence    male  34.00      0   \n",
       "22                         McGowan, Miss. Anna \"Annie\"  female  15.00      0   \n",
       "23                        Sloper, Mr. William Thompson    male  28.00      0   \n",
       "25   Asplund, Mrs. Carl Oscar (Selma Augusta Emilia...  female  38.00      1   \n",
       "28                       O'Dwyer, Miss. Ellen \"Nellie\"  female    NaN      0   \n",
       "31      Spencer, Mrs. William Augustus (Marie Eugenie)  female    NaN      1   \n",
       "32                            Glynn, Miss. Mary Agatha  female    NaN      0   \n",
       "36                                    Mamee, Mr. Hanna    male    NaN      0   \n",
       "39                         Nicola-Yarred, Miss. Jamila  female  14.00      1   \n",
       "43            Laroche, Miss. Simonne Marie Anne Andree  female   3.00      1   \n",
       "44                       Devaney, Miss. Margaret Delia  female  19.00      0   \n",
       "47                           O'Driscoll, Miss. Bridget  female    NaN      0   \n",
       "52            Harper, Mrs. Henry Sleeper (Myna Haxtun)  female  49.00      1   \n",
       "53   Faunthorpe, Mrs. Lizzie (Elizabeth Anne Wilkin...  female  29.00      1   \n",
       "55                                   Woolner, Mr. Hugh    male    NaN      0   \n",
       "56                                   Rugg, Miss. Emily  female  21.00      0   \n",
       "58                        West, Miss. Constance Mirium  female   5.00      1   \n",
       "61                                 Icard, Miss. Amelie  female  38.00      0   \n",
       "65                            Moubarek, Master. Gerios    male    NaN      1   \n",
       "66                        Nye, Mrs. (Elizabeth Ramell)  female  29.00      0   \n",
       "..                                                 ...     ...    ...    ...   \n",
       "809     Chambers, Mrs. Norman Campbell (Bertha Griggs)  female  33.00      1   \n",
       "820  Hays, Mrs. Charles Melville (Clara Jennings Gr...  female  52.00      1   \n",
       "821                                  Lulic, Mr. Nikola    male  27.00      0   \n",
       "823                                 Moor, Mrs. (Beila)  female  27.00      0   \n",
       "827                              Mallet, Master. Andre    male   1.00      0   \n",
       "828                       McCormack, Mr. Thomas Joseph    male    NaN      0   \n",
       "829          Stone, Mrs. George Nelson (Martha Evelyn)  female  62.00      0   \n",
       "830            Yasbeck, Mrs. Antoni (Selini Alexander)  female  15.00      1   \n",
       "831                    Richards, Master. George Sibley    male   0.83      1   \n",
       "835                        Compton, Miss. Sara Rebecca  female  39.00      1   \n",
       "838                                    Chip, Mr. Chang    male  32.00      0   \n",
       "839                               Marechal, Mr. Pierre    male    NaN      0   \n",
       "842                            Serepeca, Miss. Augusta  female  30.00      0   \n",
       "849       Goldenberg, Mrs. Samuel L (Edwiga Grabowska)  female    NaN      1   \n",
       "853                          Lines, Miss. Mary Conover  female  16.00      0   \n",
       "855                         Aks, Mrs. Sam (Leah Rosen)  female  18.00      0   \n",
       "856         Wick, Mrs. George Dennick (Mary Hitchcock)  female  45.00      1   \n",
       "857                             Daly, Mr. Peter Denis     male  51.00      0   \n",
       "858              Baclini, Mrs. Solomon (Latifa Qurban)  female  24.00      0   \n",
       "862  Swift, Mrs. Frederick Joel (Margaret Welles Ba...  female  48.00      0   \n",
       "865                           Bystrom, Mrs. (Karolina)  female  42.00      0   \n",
       "866                       Duran y More, Miss. Asuncion  female  27.00      1   \n",
       "869                    Johnson, Master. Harold Theodor    male   4.00      1   \n",
       "871   Beckwith, Mrs. Richard Leonard (Sallie Monypeny)  female  47.00      1   \n",
       "874              Abelson, Mrs. Samuel (Hannah Wizosky)  female  28.00      1   \n",
       "875                   Najib, Miss. Adele Kiamie \"Jane\"  female  15.00      0   \n",
       "879      Potter, Mrs. Thomas Jr (Lily Alexenia Wilson)  female  56.00      0   \n",
       "880       Shelley, Mrs. William (Imanita Parrish Hall)  female  25.00      0   \n",
       "887                       Graham, Miss. Margaret Edith  female  19.00      0   \n",
       "889                              Behr, Mr. Karl Howell    male  26.00      0   \n",
       "\n",
       "     Parch            Ticket      Fare Cabin Embarked  \n",
       "1        0          PC 17599   71.2833   C85        C  \n",
       "2        0  STON/O2. 3101282    7.9250   NaN        S  \n",
       "3        0            113803   53.1000  C123        S  \n",
       "8        2            347742   11.1333   NaN        S  \n",
       "9        0            237736   30.0708   NaN        C  \n",
       "10       1           PP 9549   16.7000    G6        S  \n",
       "11       0            113783   26.5500  C103        S  \n",
       "15       0            248706   16.0000   NaN        S  \n",
       "17       0            244373   13.0000   NaN        S  \n",
       "19       0              2649    7.2250   NaN        C  \n",
       "21       0            248698   13.0000   D56        S  \n",
       "22       0            330923    8.0292   NaN        Q  \n",
       "23       0            113788   35.5000    A6        S  \n",
       "25       5            347077   31.3875   NaN        S  \n",
       "28       0            330959    7.8792   NaN        Q  \n",
       "31       0          PC 17569  146.5208   B78        C  \n",
       "32       0            335677    7.7500   NaN        Q  \n",
       "36       0              2677    7.2292   NaN        C  \n",
       "39       0              2651   11.2417   NaN        C  \n",
       "43       2     SC/Paris 2123   41.5792   NaN        C  \n",
       "44       0            330958    7.8792   NaN        Q  \n",
       "47       0             14311    7.7500   NaN        Q  \n",
       "52       0          PC 17572   76.7292   D33        C  \n",
       "53       0              2926   26.0000   NaN        S  \n",
       "55       0             19947   35.5000   C52        S  \n",
       "56       0        C.A. 31026   10.5000   NaN        S  \n",
       "58       2        C.A. 34651   27.7500   NaN        S  \n",
       "61       0            113572   80.0000   B28      NaN  \n",
       "65       1              2661   15.2458   NaN        C  \n",
       "66       0        C.A. 29395   10.5000   F33        S  \n",
       "..     ...               ...       ...   ...      ...  \n",
       "809      0            113806   53.1000    E8        S  \n",
       "820      1             12749   93.5000   B69        S  \n",
       "821      0            315098    8.6625   NaN        S  \n",
       "823      1            392096   12.4750  E121        S  \n",
       "827      2   S.C./PARIS 2079   37.0042   NaN        C  \n",
       "828      0            367228    7.7500   NaN        Q  \n",
       "829      0            113572   80.0000   B28      NaN  \n",
       "830      0              2659   14.4542   NaN        C  \n",
       "831      1             29106   18.7500   NaN        S  \n",
       "835      1          PC 17756   83.1583   E49        C  \n",
       "838      0              1601   56.4958   NaN        S  \n",
       "839      0             11774   29.7000   C47        C  \n",
       "842      0            113798   31.0000   NaN        C  \n",
       "849      0             17453   89.1042   C92        C  \n",
       "853      1          PC 17592   39.4000   D28        S  \n",
       "855      1            392091    9.3500   NaN        S  \n",
       "856      1             36928  164.8667   NaN        S  \n",
       "857      0            113055   26.5500   E17        S  \n",
       "858      3              2666   19.2583   NaN        C  \n",
       "862      0             17466   25.9292   D17        S  \n",
       "865      0            236852   13.0000   NaN        S  \n",
       "866      0     SC/PARIS 2149   13.8583   NaN        C  \n",
       "869      1            347742   11.1333   NaN        S  \n",
       "871      1             11751   52.5542   D35        S  \n",
       "874      0         P/PP 3381   24.0000   NaN        C  \n",
       "875      0              2667    7.2250   NaN        C  \n",
       "879      1             11767   83.1583   C50        C  \n",
       "880      1            230433   26.0000   NaN        S  \n",
       "887      0            112053   30.0000   B42        S  \n",
       "889      0            111369   30.0000  C148        C  \n",
       "\n",
       "[342 rows x 12 columns]"
      ]
     },
     "execution_count": 16,
     "metadata": {},
     "output_type": "execute_result"
    }
   ],
   "source": [
    "train[train[\"Survived\"] == 1]"
   ]
  },
  {
   "cell_type": "code",
   "execution_count": 17,
   "metadata": {
    "_cell_guid": "9c4f5e45-60b0-4e65-861a-d6dd61e60dc0",
    "_uuid": "3e43be953fbedf46a783228d461f396327e7bdde"
   },
   "outputs": [
    {
     "data": {
      "image/png": "[encoded data removed]",
      "text/plain": [
       "<matplotlib.figure.Figure at 0x26819203cf8>"
      ]
     },
     "metadata": {},
     "output_type": "display_data"
    }
   ],
   "source": [
    "survived = train[train[\"Survived\"] == 1]\n",
    "died = train[train[\"Survived\"] == 0]\n",
    "survived[\"Age\"].plot.hist(alpha=0.5,color='red',bins=50)\n",
    "died[\"Age\"].plot.hist(alpha=0.5,color='blue',bins=50)\n",
    "plt.legend(['Survived','Died'])\n",
    "plt.show()"
   ]
  },
  {
   "cell_type": "markdown",
   "metadata": {
    "_cell_guid": "6d56b478-b85a-4650-9447-d9f7f6918156",
    "_uuid": "3d3eaa464c3bd85bbda4e5b044a8f18135d832b3"
   },
   "source": [
    "The relationship here is not simple, but we can see that in some age ranges more passengers survived - where the red bars are higher than the blue bars.\n",
    "\n",
    "In order for this to be useful to our machine learning model, we can separate this continuous feature into a categorical feature by dividing it into ranges. We can use the ```pandas.cut()``` function to help us out.\n",
    "\n",
    "The ```pandas.cut()``` function has two required parameters - the column we wish to cut, and a list of numbers which define the boundaries of our cuts. We are also going to use the optional parameter labels, which takes a list of labels for the resultant bins. This will make it easier for us to understand our results.\n",
    "\n",
    "Before we modify this column, we have to be aware of two things. Firstly, any change we make to the train data, we also need to make to the test data, otherwise we will be unable to use our model to make predictions for our submissions. Secondly, we need to remember to handle the missing values we observed above."
   ]
  },
  {
   "cell_type": "markdown",
   "metadata": {
    "_cell_guid": "d511e1d3-7d29-4d9a-b62c-7bd11824de8f",
    "_uuid": "f3bb2a1814f8d52bcaee28b15be1f1f81376821f"
   },
   "source": [
    "We can then use that function on both the ```train``` and ```test``` dataframes.\n",
    "\n",
    "```python\n",
    "def process_age(df,cut_points,label_names):\n",
    "    df[\"Age\"] = df[\"Age\"].fillna(-0.5)\n",
    "    df[\"Age_categories\"] = pd.cut(df[\"Age\"],cut_points,labels=label_names)\n",
    "    return df\n",
    "\n",
    "cut_points = [-1,0,18,100]\n",
    "label_names = [\"Missing\",\"Child\",\"Adult\"]\n",
    "\n",
    "train = process_age(train,cut_points,label_names)\n",
    "test = process_age(test,cut_points,label_names)\n",
    "```\n",
    "\n",
    "The diagram below shows how the function converts the data:"
   ]
  },
  {
   "cell_type": "markdown",
   "metadata": {
    "_cell_guid": "65cc7138-2ae2-4b2d-821e-3e6d692f3e27",
    "_uuid": "bc820399897f31efbede3e84575647de985b0861"
   },
   "source": [
    "![](https://s3.amazonaws.com/dq-content/185/cut.svg)\n",
    "\n",
    "Note that the cut_points list has one more element than the label_names list, since it needs to define the upper boundary for the last segment."
   ]
  },
  {
   "cell_type": "markdown",
   "metadata": {
    "_cell_guid": "4ac20db3-1921-4fcb-bdb5-e82c1878b55a",
    "_uuid": "67607830b87ed28ddb97ba967bd4774ebba675bc"
   },
   "source": [
    "### Instructions"
   ]
  },
  {
   "cell_type": "markdown",
   "metadata": {
    "_cell_guid": "53b2e5e5-239a-4d7a-856d-754d6ea04d77",
    "_uuid": "54eaf5474e1ba358d799f7eb4304ec587be3f54c"
   },
   "source": [
    "* Create the ```cut_points``` and ```label_names``` lists to split the ```Age``` column into six categories:\n",
    "    * Missing, from -1 to 0\n",
    "    * Infant, from 0 to 5\n",
    "    * Child, from 5 to 12\n",
    "    * Teenager, from 12 to 18\n",
    "    * Young Adult, from 18 to 35\n",
    "    * Adult, from 35 to 60\n",
    "    * Senior, from 60 to 100\n",
    "* Apply the ```process_age()``` function on the train dataframe, assigning the result to train.\n",
    "* Apply the ```process_age()``` function on the test dataframe, assigning the result to test.\n",
    "* Use ```DataFrame.pivot_table()``` to pivot the train dataframe by the Age_categories column.\n",
    "* Use ```DataFrame.plot.bar()``` to plot the pivot table."
   ]
  },
  {
   "cell_type": "code",
   "execution_count": 19,
   "metadata": {
    "_cell_guid": "821160e2-d137-4762-ad1d-d8eaca6d4226",
    "_uuid": "4714bfb7d4b14c0ecf3c066eb063ac38f8a8ced2"
   },
   "outputs": [
    {
     "data": {
      "image/png": "[encoded data removed]",
      "text/plain": [
       "<matplotlib.figure.Figure at 0x26819466f28>"
      ]
     },
     "metadata": {},
     "output_type": "display_data"
    }
   ],
   "source": [
    "def process_age(df,cut_points,label_names):\n",
    "    df[\"Age\"] = df[\"Age\"].fillna(-0.5)\n",
    "    df[\"Age_categories\"] = pd.cut(df[\"Age\"],cut_points,labels=label_names)\n",
    "    return df\n",
    "\n",
    "cut_points = [-1,0, 5, 12, 18, 35, 60, 100]\n",
    "label_names = [\"Missing\", 'Infant', \"Child\", 'Teenager', \"Young Adult\", 'Adult', 'Senior']\n",
    "\n",
    "train = process_age(train,cut_points,label_names)\n",
    "test = process_age(test,cut_points,label_names)\n",
    "\n",
    "age_cat_pivot = train.pivot_table(index=\"Age_categories\",values=\"Survived\")\n",
    "age_cat_pivot.plot.bar()\n",
    "plt.show()"
   ]
  },
  {
   "cell_type": "markdown",
   "metadata": {
    "_cell_guid": "c6465ea0-7181-4997-90fa-47faf06f9b67",
    "_uuid": "aa19941e7c41ef975aa7f5e5aee4b6f12899d194"
   },
   "source": [
    "## 4. Preparing our Data for Machine Learning"
   ]
  },
  {
   "cell_type": "markdown",
   "metadata": {
    "_cell_guid": "5b8caca5-ec4c-4141-886e-3ca1c3d1f1ef",
    "_uuid": "7a3700ec89b216f737c6f59e6c15bf38067b3920"
   },
   "source": [
    "So far we have identified three columns that may be useful for predicting survival:\n",
    "\n",
    "* Sex\n",
    "* Pclass\n",
    "* Age, or more specifically our newly created Age_categories\n",
    "\n",
    "Before we build our model, we need to prepare these columns for machine learning. Most machine learning algorithms can't understand text labels, so we have to convert our values into numbers.\n",
    "\n",
    "Additionally, we need to be careful that we don't imply any numeric relationship where there isn't one. If we think of the values in the Pclass column, we know they are 1, 2, and 3."
   ]
  },
  {
   "cell_type": "code",
   "execution_count": 20,
   "metadata": {
    "_cell_guid": "0e4e10f2-5d73-40b2-a56d-2e1ce2bd9c83",
    "_uuid": "8927831d595abcdae6888f5f928269b9b7e8d5b2"
   },
   "outputs": [
    {
     "data": {
      "text/plain": [
       "3    491\n",
       "1    216\n",
       "2    184\n",
       "Name: Pclass, dtype: int64"
      ]
     },
     "execution_count": 20,
     "metadata": {},
     "output_type": "execute_result"
    }
   ],
   "source": [
    "train['Pclass'].value_counts()"
   ]
  },
  {
   "cell_type": "markdown",
   "metadata": {
    "_cell_guid": "63be9240-5fad-499e-8954-21a02957c004",
    "_uuid": "58f07635d8b9aabf6d3f2142897f02bc1fa53a92"
   },
   "source": [
    "While the class of each passenger certainly has some sort of ordered relationship, the relationship between each class is not the same as the relationship between the numbers 1, 2, and 3. For instance, class 2 isn't \"worth\" double what class 1 is, and class 3 isn't \"worth\" triple what class 1 is.\n",
    "\n",
    "In order to remove this relationship, we can create dummy columns for each unique value in Pclass:"
   ]
  },
  {
   "cell_type": "markdown",
   "metadata": {
    "_cell_guid": "93161299-8b20-4a28-9b7f-69bba43e4372",
    "_uuid": "85590957e0088a433152eea223c504453c1eccfb"
   },
   "source": [
    "![](https://s3.amazonaws.com/dq-content/185/kaggle_get_dummies.svg)"
   ]
  },
  {
   "cell_type": "markdown",
   "metadata": {
    "_cell_guid": "942fa204-1d6b-4b57-abe9-48452535f391",
    "_uuid": "472f80281232c20ad1ff6ee55bb49e15f3bfea34"
   },
   "source": [
    "Let's use that function to create dummy columns for both the Sex and Age_categories columns."
   ]
  },
  {
   "cell_type": "markdown",
   "metadata": {
    "_cell_guid": "46470179-3fa6-4d12-8040-854536e4daa3",
    "_uuid": "c2df68e1ba2bec5286720ca7b68b61c5f216dbc5"
   },
   "source": [
    "### Instructions\n",
    "\n",
    "* Use the create_dummies() function to create dummy variables for the Sex column:\n",
    "    * in the train dataframe.\n",
    "    * in the test dataframe.\n",
    "* Use the create_dummies() function to create dummy variables for the Age_categories column:\n",
    "    * in the train dataframe.\n",
    "    * in the test dataframe."
   ]
  },
  {
   "cell_type": "code",
   "execution_count": 21,
   "metadata": {
    "_cell_guid": "58ad174a-0ff6-4000-9d8d-5ab49d8eac4d",
    "_uuid": "93cef9c39b1cd922d1977c7ee353690fd113b279"
   },
   "outputs": [
    {
     "data": {
      "text/html": [
       "<div>\n",
       "<style>\n",
       "    .dataframe thead tr:only-child th {\n",
       "        text-align: right;\n",
       "    }\n",
       "\n",
       "    .dataframe thead th {\n",
       "        text-align: left;\n",
       "    }\n",
       "\n",
       "    .dataframe tbody tr th {\n",
       "        vertical-align: top;\n",
       "    }\n",
       "</style>\n",
       "<table border=\"1\" class=\"dataframe\">\n",
       "  <thead>\n",
       "    <tr style=\"text-align: right;\">\n",
       "      <th></th>\n",
       "      <th>Pclass_1</th>\n",
       "      <th>Pclass_2</th>\n",
       "      <th>Pclass_3</th>\n",
       "    </tr>\n",
       "  </thead>\n",
       "  <tbody>\n",
       "    <tr>\n",
       "      <th>0</th>\n",
       "      <td>0</td>\n",
       "      <td>0</td>\n",
       "      <td>1</td>\n",
       "    </tr>\n",
       "    <tr>\n",
       "      <th>1</th>\n",
       "      <td>1</td>\n",
       "      <td>0</td>\n",
       "      <td>0</td>\n",
       "    </tr>\n",
       "    <tr>\n",
       "      <th>2</th>\n",
       "      <td>0</td>\n",
       "      <td>0</td>\n",
       "      <td>1</td>\n",
       "    </tr>\n",
       "    <tr>\n",
       "      <th>3</th>\n",
       "      <td>1</td>\n",
       "      <td>0</td>\n",
       "      <td>0</td>\n",
       "    </tr>\n",
       "    <tr>\n",
       "      <th>4</th>\n",
       "      <td>0</td>\n",
       "      <td>0</td>\n",
       "      <td>1</td>\n",
       "    </tr>\n",
       "  </tbody>\n",
       "</table>\n",
       "</div>"
      ],
      "text/plain": [
       "   Pclass_1  Pclass_2  Pclass_3\n",
       "0         0         0         1\n",
       "1         1         0         0\n",
       "2         0         0         1\n",
       "3         1         0         0\n",
       "4         0         0         1"
      ]
     },
     "execution_count": 21,
     "metadata": {},
     "output_type": "execute_result"
    }
   ],
   "source": [
    "column_name = \"Pclass\"\n",
    "df = train\n",
    "dummies = pd.get_dummies(df[column_name],prefix=column_name)\n",
    "dummies.head()"
   ]
  },
  {
   "cell_type": "code",
   "execution_count": 22,
   "metadata": {
    "_cell_guid": "b1bf5db1-aa0c-4a1d-9e1b-9a2ca1b51de5",
    "_uuid": "1e5cc217df58d21b02fdbda9fad4c377e339173c"
   },
   "outputs": [
    {
     "data": {
      "text/html": [
       "<div>\n",
       "<style>\n",
       "    .dataframe thead tr:only-child th {\n",
       "        text-align: right;\n",
       "    }\n",
       "\n",
       "    .dataframe thead th {\n",
       "        text-align: left;\n",
       "    }\n",
       "\n",
       "    .dataframe tbody tr th {\n",
       "        vertical-align: top;\n",
       "    }\n",
       "</style>\n",
       "<table border=\"1\" class=\"dataframe\">\n",
       "  <thead>\n",
       "    <tr style=\"text-align: right;\">\n",
       "      <th></th>\n",
       "      <th>PassengerId</th>\n",
       "      <th>Survived</th>\n",
       "      <th>Pclass</th>\n",
       "      <th>Name</th>\n",
       "      <th>Sex</th>\n",
       "      <th>Age</th>\n",
       "      <th>SibSp</th>\n",
       "      <th>Parch</th>\n",
       "      <th>Ticket</th>\n",
       "      <th>Fare</th>\n",
       "      <th>Cabin</th>\n",
       "      <th>Embarked</th>\n",
       "      <th>Age_categories</th>\n",
       "      <th>Pclass_1</th>\n",
       "      <th>Pclass_2</th>\n",
       "      <th>Pclass_3</th>\n",
       "    </tr>\n",
       "  </thead>\n",
       "  <tbody>\n",
       "    <tr>\n",
       "      <th>0</th>\n",
       "      <td>1</td>\n",
       "      <td>0</td>\n",
       "      <td>3</td>\n",
       "      <td>Braund, Mr. Owen Harris</td>\n",
       "      <td>male</td>\n",
       "      <td>22.0</td>\n",
       "      <td>1</td>\n",
       "      <td>0</td>\n",
       "      <td>A/5 21171</td>\n",
       "      <td>7.2500</td>\n",
       "      <td>NaN</td>\n",
       "      <td>S</td>\n",
       "      <td>Young Adult</td>\n",
       "      <td>0</td>\n",
       "      <td>0</td>\n",
       "      <td>1</td>\n",
       "    </tr>\n",
       "    <tr>\n",
       "      <th>1</th>\n",
       "      <td>2</td>\n",
       "      <td>1</td>\n",
       "      <td>1</td>\n",
       "      <td>Cumings, Mrs. John Bradley (Florence Briggs Th...</td>\n",
       "      <td>female</td>\n",
       "      <td>38.0</td>\n",
       "      <td>1</td>\n",
       "      <td>0</td>\n",
       "      <td>PC 17599</td>\n",
       "      <td>71.2833</td>\n",
       "      <td>C85</td>\n",
       "      <td>C</td>\n",
       "      <td>Adult</td>\n",
       "      <td>1</td>\n",
       "      <td>0</td>\n",
       "      <td>0</td>\n",
       "    </tr>\n",
       "    <tr>\n",
       "      <th>2</th>\n",
       "      <td>3</td>\n",
       "      <td>1</td>\n",
       "      <td>3</td>\n",
       "      <td>Heikkinen, Miss. Laina</td>\n",
       "      <td>female</td>\n",
       "      <td>26.0</td>\n",
       "      <td>0</td>\n",
       "      <td>0</td>\n",
       "      <td>STON/O2. 3101282</td>\n",
       "      <td>7.9250</td>\n",
       "      <td>NaN</td>\n",
       "      <td>S</td>\n",
       "      <td>Young Adult</td>\n",
       "      <td>0</td>\n",
       "      <td>0</td>\n",
       "      <td>1</td>\n",
       "    </tr>\n",
       "    <tr>\n",
       "      <th>3</th>\n",
       "      <td>4</td>\n",
       "      <td>1</td>\n",
       "      <td>1</td>\n",
       "      <td>Futrelle, Mrs. Jacques Heath (Lily May Peel)</td>\n",
       "      <td>female</td>\n",
       "      <td>35.0</td>\n",
       "      <td>1</td>\n",
       "      <td>0</td>\n",
       "      <td>113803</td>\n",
       "      <td>53.1000</td>\n",
       "      <td>C123</td>\n",
       "      <td>S</td>\n",
       "      <td>Young Adult</td>\n",
       "      <td>1</td>\n",
       "      <td>0</td>\n",
       "      <td>0</td>\n",
       "    </tr>\n",
       "    <tr>\n",
       "      <th>4</th>\n",
       "      <td>5</td>\n",
       "      <td>0</td>\n",
       "      <td>3</td>\n",
       "      <td>Allen, Mr. William Henry</td>\n",
       "      <td>male</td>\n",
       "      <td>35.0</td>\n",
       "      <td>0</td>\n",
       "      <td>0</td>\n",
       "      <td>373450</td>\n",
       "      <td>8.0500</td>\n",
       "      <td>NaN</td>\n",
       "      <td>S</td>\n",
       "      <td>Young Adult</td>\n",
       "      <td>0</td>\n",
       "      <td>0</td>\n",
       "      <td>1</td>\n",
       "    </tr>\n",
       "  </tbody>\n",
       "</table>\n",
       "</div>"
      ],
      "text/plain": [
       "   PassengerId  Survived  Pclass  \\\n",
       "0            1         0       3   \n",
       "1            2         1       1   \n",
       "2            3         1       3   \n",
       "3            4         1       1   \n",
       "4            5         0       3   \n",
       "\n",
       "                                                Name     Sex   Age  SibSp  \\\n",
       "0                            Braund, Mr. Owen Harris    male  22.0      1   \n",
       "1  Cumings, Mrs. John Bradley (Florence Briggs Th...  female  38.0      1   \n",
       "2                             Heikkinen, Miss. Laina  female  26.0      0   \n",
       "3       Futrelle, Mrs. Jacques Heath (Lily May Peel)  female  35.0      1   \n",
       "4                           Allen, Mr. William Henry    male  35.0      0   \n",
       "\n",
       "   Parch            Ticket     Fare Cabin Embarked Age_categories  Pclass_1  \\\n",
       "0      0         A/5 21171   7.2500   NaN        S    Young Adult         0   \n",
       "1      0          PC 17599  71.2833   C85        C          Adult         1   \n",
       "2      0  STON/O2. 3101282   7.9250   NaN        S    Young Adult         0   \n",
       "3      0            113803  53.1000  C123        S    Young Adult         1   \n",
       "4      0            373450   8.0500   NaN        S    Young Adult         0   \n",
       "\n",
       "   Pclass_2  Pclass_3  \n",
       "0         0         1  \n",
       "1         0         0  \n",
       "2         0         1  \n",
       "3         0         0  \n",
       "4         0         1  "
      ]
     },
     "execution_count": 22,
     "metadata": {},
     "output_type": "execute_result"
    }
   ],
   "source": [
    "def create_dummies(df,column_name):\n",
    "    dummies = pd.get_dummies(df[column_name],prefix=column_name)\n",
    "    df = pd.concat([df,dummies],axis=1)\n",
    "    return df\n",
    "\n",
    "train = create_dummies(train,\"Pclass\")\n",
    "test = create_dummies(test,\"Pclass\")\n",
    "train.head()"
   ]
  },
  {
   "cell_type": "code",
   "execution_count": 23,
   "metadata": {
    "_cell_guid": "51a9e34c-095a-489c-a3b9-d799a8699fc2",
    "_uuid": "f64bee8b698ed4c954fee6e6acfaac5525c0ad4e",
    "collapsed": true
   },
   "outputs": [],
   "source": [
    "train = create_dummies(train,\"Sex\")\n",
    "test = create_dummies(test,\"Sex\")\n",
    "train = create_dummies(train,\"Age_categories\")\n",
    "test = create_dummies(test,\"Age_categories\")"
   ]
  },
  {
   "cell_type": "code",
   "execution_count": 24,
   "metadata": {
    "_cell_guid": "1788dd94-8202-4d52-ac62-d57f2e8754d7",
    "_uuid": "8f25bf63c69b487290851a2de45c4b8c62a04bb2"
   },
   "outputs": [
    {
     "data": {
      "text/html": [
       "<div>\n",
       "<style>\n",
       "    .dataframe thead tr:only-child th {\n",
       "        text-align: right;\n",
       "    }\n",
       "\n",
       "    .dataframe thead th {\n",
       "        text-align: left;\n",
       "    }\n",
       "\n",
       "    .dataframe tbody tr th {\n",
       "        vertical-align: top;\n",
       "    }\n",
       "</style>\n",
       "<table border=\"1\" class=\"dataframe\">\n",
       "  <thead>\n",
       "    <tr style=\"text-align: right;\">\n",
       "      <th></th>\n",
       "      <th>PassengerId</th>\n",
       "      <th>Survived</th>\n",
       "      <th>Pclass</th>\n",
       "      <th>Name</th>\n",
       "      <th>Sex</th>\n",
       "      <th>Age</th>\n",
       "      <th>SibSp</th>\n",
       "      <th>Parch</th>\n",
       "      <th>Ticket</th>\n",
       "      <th>Fare</th>\n",
       "      <th>...</th>\n",
       "      <th>Pclass_3</th>\n",
       "      <th>Sex_female</th>\n",
       "      <th>Sex_male</th>\n",
       "      <th>Age_categories_Adult</th>\n",
       "      <th>Age_categories_Child</th>\n",
       "      <th>Age_categories_Infant</th>\n",
       "      <th>Age_categories_Missing</th>\n",
       "      <th>Age_categories_Senior</th>\n",
       "      <th>Age_categories_Teenager</th>\n",
       "      <th>Age_categories_Young Adult</th>\n",
       "    </tr>\n",
       "  </thead>\n",
       "  <tbody>\n",
       "    <tr>\n",
       "      <th>0</th>\n",
       "      <td>1</td>\n",
       "      <td>0</td>\n",
       "      <td>3</td>\n",
       "      <td>Braund, Mr. Owen Harris</td>\n",
       "      <td>male</td>\n",
       "      <td>22.0</td>\n",
       "      <td>1</td>\n",
       "      <td>0</td>\n",
       "      <td>A/5 21171</td>\n",
       "      <td>7.2500</td>\n",
       "      <td>...</td>\n",
       "      <td>1</td>\n",
       "      <td>0</td>\n",
       "      <td>1</td>\n",
       "      <td>0</td>\n",
       "      <td>0</td>\n",
       "      <td>0</td>\n",
       "      <td>0</td>\n",
       "      <td>0</td>\n",
       "      <td>0</td>\n",
       "      <td>1</td>\n",
       "    </tr>\n",
       "    <tr>\n",
       "      <th>1</th>\n",
       "      <td>2</td>\n",
       "      <td>1</td>\n",
       "      <td>1</td>\n",
       "      <td>Cumings, Mrs. John Bradley (Florence Briggs Th...</td>\n",
       "      <td>female</td>\n",
       "      <td>38.0</td>\n",
       "      <td>1</td>\n",
       "      <td>0</td>\n",
       "      <td>PC 17599</td>\n",
       "      <td>71.2833</td>\n",
       "      <td>...</td>\n",
       "      <td>0</td>\n",
       "      <td>1</td>\n",
       "      <td>0</td>\n",
       "      <td>1</td>\n",
       "      <td>0</td>\n",
       "      <td>0</td>\n",
       "      <td>0</td>\n",
       "      <td>0</td>\n",
       "      <td>0</td>\n",
       "      <td>0</td>\n",
       "    </tr>\n",
       "    <tr>\n",
       "      <th>2</th>\n",
       "      <td>3</td>\n",
       "      <td>1</td>\n",
       "      <td>3</td>\n",
       "      <td>Heikkinen, Miss. Laina</td>\n",
       "      <td>female</td>\n",
       "      <td>26.0</td>\n",
       "      <td>0</td>\n",
       "      <td>0</td>\n",
       "      <td>STON/O2. 3101282</td>\n",
       "      <td>7.9250</td>\n",
       "      <td>...</td>\n",
       "      <td>1</td>\n",
       "      <td>1</td>\n",
       "      <td>0</td>\n",
       "      <td>0</td>\n",
       "      <td>0</td>\n",
       "      <td>0</td>\n",
       "      <td>0</td>\n",
       "      <td>0</td>\n",
       "      <td>0</td>\n",
       "      <td>1</td>\n",
       "    </tr>\n",
       "    <tr>\n",
       "      <th>3</th>\n",
       "      <td>4</td>\n",
       "      <td>1</td>\n",
       "      <td>1</td>\n",
       "      <td>Futrelle, Mrs. Jacques Heath (Lily May Peel)</td>\n",
       "      <td>female</td>\n",
       "      <td>35.0</td>\n",
       "      <td>1</td>\n",
       "      <td>0</td>\n",
       "      <td>113803</td>\n",
       "      <td>53.1000</td>\n",
       "      <td>...</td>\n",
       "      <td>0</td>\n",
       "      <td>1</td>\n",
       "      <td>0</td>\n",
       "      <td>0</td>\n",
       "      <td>0</td>\n",
       "      <td>0</td>\n",
       "      <td>0</td>\n",
       "      <td>0</td>\n",
       "      <td>0</td>\n",
       "      <td>1</td>\n",
       "    </tr>\n",
       "    <tr>\n",
       "      <th>4</th>\n",
       "      <td>5</td>\n",
       "      <td>0</td>\n",
       "      <td>3</td>\n",
       "      <td>Allen, Mr. William Henry</td>\n",
       "      <td>male</td>\n",
       "      <td>35.0</td>\n",
       "      <td>0</td>\n",
       "      <td>0</td>\n",
       "      <td>373450</td>\n",
       "      <td>8.0500</td>\n",
       "      <td>...</td>\n",
       "      <td>1</td>\n",
       "      <td>0</td>\n",
       "      <td>1</td>\n",
       "      <td>0</td>\n",
       "      <td>0</td>\n",
       "      <td>0</td>\n",
       "      <td>0</td>\n",
       "      <td>0</td>\n",
       "      <td>0</td>\n",
       "      <td>1</td>\n",
       "    </tr>\n",
       "  </tbody>\n",
       "</table>\n",
       "<p>5 rows × 25 columns</p>\n",
       "</div>"
      ],
      "text/plain": [
       "   PassengerId  Survived  Pclass  \\\n",
       "0            1         0       3   \n",
       "1            2         1       1   \n",
       "2            3         1       3   \n",
       "3            4         1       1   \n",
       "4            5         0       3   \n",
       "\n",
       "                                                Name     Sex   Age  SibSp  \\\n",
       "0                            Braund, Mr. Owen Harris    male  22.0      1   \n",
       "1  Cumings, Mrs. John Bradley (Florence Briggs Th...  female  38.0      1   \n",
       "2                             Heikkinen, Miss. Laina  female  26.0      0   \n",
       "3       Futrelle, Mrs. Jacques Heath (Lily May Peel)  female  35.0      1   \n",
       "4                           Allen, Mr. William Henry    male  35.0      0   \n",
       "\n",
       "   Parch            Ticket     Fare             ...             Pclass_3  \\\n",
       "0      0         A/5 21171   7.2500             ...                    1   \n",
       "1      0          PC 17599  71.2833             ...                    0   \n",
       "2      0  STON/O2. 3101282   7.9250             ...                    1   \n",
       "3      0            113803  53.1000             ...                    0   \n",
       "4      0            373450   8.0500             ...                    1   \n",
       "\n",
       "  Sex_female Sex_male  Age_categories_Adult  Age_categories_Child  \\\n",
       "0          0        1                     0                     0   \n",
       "1          1        0                     1                     0   \n",
       "2          1        0                     0                     0   \n",
       "3          1        0                     0                     0   \n",
       "4          0        1                     0                     0   \n",
       "\n",
       "   Age_categories_Infant  Age_categories_Missing  Age_categories_Senior  \\\n",
       "0                      0                       0                      0   \n",
       "1                      0                       0                      0   \n",
       "2                      0                       0                      0   \n",
       "3                      0                       0                      0   \n",
       "4                      0                       0                      0   \n",
       "\n",
       "   Age_categories_Teenager  Age_categories_Young Adult  \n",
       "0                        0                           1  \n",
       "1                        0                           0  \n",
       "2                        0                           1  \n",
       "3                        0                           1  \n",
       "4                        0                           1  \n",
       "\n",
       "[5 rows x 25 columns]"
      ]
     },
     "execution_count": 24,
     "metadata": {},
     "output_type": "execute_result"
    }
   ],
   "source": [
    "train.head()"
   ]
  },
  {
   "cell_type": "markdown",
   "metadata": {
    "_cell_guid": "7fe7684f-a737-4619-82c6-3d246cc58683",
    "_uuid": "31190e72d5132f931ce7a178a97db40510471991"
   },
   "source": [
    "## 5. Creating our first machine learning model"
   ]
  },
  {
   "cell_type": "markdown",
   "metadata": {
    "_cell_guid": "4133d104-2477-4057-a871-39e59bcf6af3",
    "_uuid": "fd120c850b1252e409b8c6e0b8e88731f37a2a8a"
   },
   "source": [
    "Now that our data has been prepared, we are ready to train our first model. The first model we will use is called Logistic Regression, which is often the first model you will train when performing classification.\n",
    "\n",
    "We will be using the scikit-learn library as it has many tools that make performing machine learning easier. The scikit-learn workflow consists of four main steps:\n",
    "\n",
    "* Instantiate (or create) the specific machine learning model you want to use\n",
    "* Fit the model to the training data\n",
    "* Use the model to make predictions\n",
    "* Evaluate the accuracy of the predictions\n",
    "* Each model in scikit-learn is implemented as a separate class and the first step is to identify the class we want to create an instance of. In our case, we want to use the LogisticRegression class.\n",
    "\n",
    "We'll start by looking at the first two steps. First, we need to import the class:\n",
    "\n",
    "```python\n",
    "from sklearn.linear_model import LogisticRegression\n",
    "```\n",
    "\n",
    "Next, we create a LogisticRegression object:\n",
    "\n",
    "```python\n",
    "lr = LogisticRegression()\n",
    "```\n",
    "\n",
    "Lastly, we use the ```LogisticRegression.fit()``` method to train our model. The ```.fit()``` method accepts two arguments: X and y. X must be a two dimensional array (like a dataframe) of the features that we wish to train our model on, and y must be a one-dimensional array (like a series) of our target, or the column we wish to predict.\n",
    "\n",
    "```python\n",
    "columns = ['Pclass_2', 'Pclass_3', 'Sex_male']\n",
    "lr.fit(train[columns], train['Survived'])\n",
    "```\n",
    "\n",
    "The code above fits (or trains) our LogisticRegression model using three columns: Pclass_2, Pclass_3, and Sex_male.\n",
    "\n",
    "Let's train our model using all of the columns we created above."
   ]
  },
  {
   "cell_type": "markdown",
   "metadata": {
    "_cell_guid": "3cc7dda2-18bb-43d9-90d0-86f9368286f8",
    "_uuid": "431dc82bd85e0c044448659e4086c69e672725ad"
   },
   "source": [
    "### Instructions\n",
    "\n",
    "* Instantiate a LogisticRegression object called lr.\n",
    "* Use LogisticRegression.fit() to fit the model on the train dataset using:\n",
    "    * The columns contained in columns as the first (X) parameter.\n",
    "    * The Survived column as the second (y) parameter."
   ]
  },
  {
   "cell_type": "code",
   "execution_count": 28,
   "metadata": {
    "_cell_guid": "7f962c4f-205f-4c16-b7ae-63910bf17517",
    "_uuid": "2a5f88cdf2ca1d3c8131761e585182975a50d29a"
   },
   "outputs": [
    {
     "data": {
      "text/plain": [
       "LogisticRegression(C=1.0, class_weight=None, dual=False, fit_intercept=True,\n",
       "          intercept_scaling=1, max_iter=100, multi_class='ovr', n_jobs=1,\n",
       "          penalty='l2', random_state=None, solver='liblinear', tol=0.0001,\n",
       "          verbose=0, warm_start=False)"
      ]
     },
     "execution_count": 28,
     "metadata": {},
     "output_type": "execute_result"
    }
   ],
   "source": [
    "columns = ['Pclass_1', 'Pclass_2', 'Pclass_3', 'Sex_female', 'Sex_male',\n",
    "       'Age_categories_Missing','Age_categories_Infant',\n",
    "       'Age_categories_Child', 'Age_categories_Teenager',\n",
    "       'Age_categories_Young Adult', 'Age_categories_Adult',\n",
    "       'Age_categories_Senior']\n",
    "\n",
    "from sklearn.linear_model import LogisticRegression\n",
    "lr = LogisticRegression()\n",
    "lr.fit(train[columns], train['Survived'])"
   ]
  },
  {
   "cell_type": "code",
   "execution_count": 29,
   "metadata": {
    "_cell_guid": "58c75f68-6f6f-4b5d-969e-a9904265280f",
    "_uuid": "7c211334eaf2081be0f856188f66f7ec2d7837c8"
   },
   "outputs": [
    {
     "data": {
      "text/plain": [
       "array([-2.17450607,  1.99980507,  0.42457562,  2.58110369, -2.17450607,\n",
       "       -2.38724499, -0.59927661, -0.70326203,  0.42457562,  1.36980989,\n",
       "        1.89581965,  1.99980507, -2.17450607, -2.75580468,  0.28987178,\n",
       "        0.92321511, -0.70326203, -1.30730689,  0.42457562,  0.21183669,\n",
       "       -1.09456796, -1.09456796,  0.28987178, -0.017978  ,  0.35500575,\n",
       "       -0.156723  , -2.38724499, -0.017978  ,  0.21183669, -2.38724499,\n",
       "       -0.59927661,  2.36836476,  0.21183669, -2.04167134, -0.017978  ,\n",
       "       -0.59927661, -2.38724499, -2.17450607,  0.28987178,  0.28987178,\n",
       "       -0.156723  ,  1.50451373, -2.38724499,  2.97575776,  0.42457562,\n",
       "       -2.38724499, -2.38724499,  0.21183669, -2.38724499,  0.28987178,\n",
       "       -2.24407593, -2.17450607,  1.99980507,  1.50451373, -0.96508138,\n",
       "       -0.23071693,  1.50451373, -2.17450607,  2.97575776, -2.24407593,\n",
       "       -2.17450607,  1.99980507, -0.59927661, -0.70326203, -0.23071693,\n",
       "       -2.38724499,  1.50451373, -2.17450607,  0.28987178, -2.17450607,\n",
       "       -1.09456796,  0.28987178, -1.09456796, -2.17450607, -2.17450607,\n",
       "       -2.17450607, -2.38724499, -2.38724499,  0.37667607,  0.42457562,\n",
       "       -2.17450607, -2.17450607,  0.21183669, -0.017978  ,  1.36980989,\n",
       "        0.42457562, -2.3092099 , -2.38724499,  2.58110369, -2.17450607,\n",
       "       -2.17450607, -2.17450607, -0.59927661, -2.17450607, -2.75580468,\n",
       "       -2.38724499, -0.96508138, -0.017978  ,  1.50451373, -1.09456796,\n",
       "        0.42457562, -2.38724499, -0.017978  , -2.17450607, -2.75580468,\n",
       "       -2.17450607,  0.42457562, -2.38724499, -2.75580468,  0.21183669,\n",
       "       -0.59927661,  0.28987178, -2.17450607,  0.42457562,  0.28987178,\n",
       "       -2.17450607, -3.12160945, -1.09456796, -0.017978  ,  1.89581965,\n",
       "       -1.09456796, -2.38724499, -1.09456796,  1.50451373, -0.59927661,\n",
       "       -2.24407593, -2.38724499, -2.17450607,  0.21183669, -2.75580468,\n",
       "       -2.17450607, -2.17450607, -0.156723  ,  1.50451373, -1.09456796,\n",
       "       -1.09456796,  2.58110369, -0.59927661, -2.3092099 , -0.017978  ,\n",
       "        0.21183669,  0.42457562,  0.42457562, -2.17450607, -1.22927179,\n",
       "       -1.09456796, -2.17450607,  0.35500575, -1.67586657, -1.67586657,\n",
       "       -1.67586657,  2.58110369, -2.75580468, -2.75580468, -2.38724499,\n",
       "       -0.59927661,  0.28987178, -2.17450607, -2.38724499, -2.38724499,\n",
       "       -2.75580468,  0.92321511, -2.17450607, -2.3092099 , -0.70326203,\n",
       "       -2.24407593,  2.36836476, -0.156723  , -0.23071693, -2.17450607,\n",
       "       -0.96508138, -0.70326203,  1.89581965, -2.17450607, -0.59927661,\n",
       "       -2.3092099 , -2.38724499,  1.99980507, -1.09456796, -2.75580468,\n",
       "        0.21183669, -1.30730689, -2.24407593,  0.37667607,  1.89581965,\n",
       "       -0.23071693,  0.21183669, -0.59927661, -2.75580468, -2.75580468,\n",
       "        1.50451373, -1.09456796,  0.42457562,  0.37667607,  1.99980507,\n",
       "        1.99980507, -2.38724499, -2.75580468,  0.21183669,  1.50451373,\n",
       "       -2.17450607, -2.38724499, -2.17450607, -2.75580468, -2.3092099 ,\n",
       "        1.89581965, -2.17450607, -2.17450607,  0.28987178, -0.59927661,\n",
       "       -2.17450607,  1.50451373, -2.17450607, -1.09456796, -2.38724499,\n",
       "        2.58110369,  0.42457562, -1.67586657,  2.58110369, -1.09456796,\n",
       "       -2.3092099 , -1.09456796, -2.75580468, -2.38724499, -0.59927661,\n",
       "       -2.17450607, -1.09456796, -2.17450607, -1.22927179,  0.21183669,\n",
       "        2.58110369, -2.17450607, -1.67586657,  1.89581965, -1.09456796,\n",
       "        0.21183669, -1.67586657,  1.43494386, -1.09456796, -1.09456796,\n",
       "        0.21183669,  0.21183669, -1.09456796, -2.17450607, -2.17450607,\n",
       "       -0.59927661,  0.42457562,  1.50451373, -0.59927661, -1.67586657,\n",
       "       -2.38724499,  0.42457562, -0.96508138, -2.17450607, -0.156723  ,\n",
       "        0.42457562,  2.36836476,  2.58110369,  2.58110369,  0.92321511,\n",
       "       -2.38724499, -0.70326203, -0.59927661, -0.59927661,  0.21183669,\n",
       "       -1.67586657, -2.3092099 , -2.17450607,  1.99980507,  2.58110369,\n",
       "       -0.23071693, -2.17450607,  0.92321511, -0.59927661,  0.21183669,\n",
       "        1.6340003 , -0.156723  , -1.30730689, -2.24407593,  0.42457562,\n",
       "       -3.12160945, -2.17450607, -2.3092099 , -2.17450607, -0.23071693,\n",
       "       -2.17450607, -2.17450607, -2.17450607, -1.67586657,  0.42457562,\n",
       "        2.58110369,  2.58110369, -1.67586657,  0.42457562, -2.17450607,\n",
       "       -0.23071693, -2.17450607,  4.05234772, -0.23071693,  1.99980507,\n",
       "        0.21183669, -2.38724499, -2.17450607,  1.2917748 , -2.38724499,\n",
       "        1.45326603,  2.36836476,  2.44639985, -1.09456796,  2.58110369,\n",
       "        2.58110369,  2.44639985,  1.50451373, -2.17450607, -1.67586657,\n",
       "        0.42457562,  1.50451373, -1.67586657,  2.58110369,  1.99980507,\n",
       "       -2.17450607, -2.17450607,  1.50451373,  1.50451373, -2.38724499,\n",
       "        1.99980507, -3.12160945,  0.92321511,  0.42457562,  2.44639985,\n",
       "        0.21183669, -0.59927661, -0.59927661, -2.3092099 ,  2.36836476,\n",
       "       -2.38724499, -0.017978  ,  1.99980507, -2.75580468, -0.59927661,\n",
       "        0.37667607,  2.58110369, -1.09456796, -1.09456796, -1.67586657,\n",
       "        1.50451373,  0.92321511,  0.21183669, -0.70326203, -2.75580468,\n",
       "       -2.17450607, -0.23071693, -2.3092099 , -2.17450607, -2.38724499,\n",
       "       -2.17450607,  2.58110369,  0.92321511,  0.21183669,  0.21183669,\n",
       "       -2.75580468, -1.09456796, -0.156723  , -2.17450607, -2.38724499,\n",
       "       -2.17450607,  1.99980507,  0.21183669,  0.21183669,  2.58110369,\n",
       "       -0.017978  , -2.3092099 , -2.17450607, -0.017978  ,  1.89581965,\n",
       "        2.36836476,  0.42457562, -0.017978  , -2.17450607, -2.17450607,\n",
       "        1.99980507,  1.89581965, -2.17450607,  2.58110369, -2.38724499,\n",
       "       -1.22927179, -0.70326203,  0.92321511, -2.38724499,  1.36980989,\n",
       "       -0.59927661, -2.17450607, -2.17450607,  2.58110369,  0.42457562,\n",
       "       -2.17450607,  0.42457562, -1.67586657, -1.09456796,  1.50451373,\n",
       "       -2.75580468, -2.17450607,  0.42457562, -2.17450607,  0.42457562,\n",
       "       -1.09456796, -2.75580468,  0.37667607, -2.17450607,  0.21183669,\n",
       "       -2.38724499, -2.38724499,  2.58110369, -1.30730689, -2.75580468,\n",
       "        0.21183669,  1.50451373,  1.36980989, -1.09456796,  0.35500575,\n",
       "       -2.38724499, -2.17450607, -2.17450607,  0.42457562, -2.3092099 ,\n",
       "       -2.38724499,  1.50451373,  1.50451373, -2.38724499, -2.17450607,\n",
       "       -0.017978  ,  0.21183669,  0.92321511, -2.3092099 , -0.59927661,\n",
       "        2.44639985,  0.42457562,  1.50451373, -0.96508138, -1.09456796,\n",
       "        0.92321511, -2.17450607, -2.17450607,  1.50451373, -2.38724499,\n",
       "        1.45326603,  1.36980989, -0.017978  ,  1.89581965, -0.59927661,\n",
       "       -1.67586657, -2.38724499, -0.017978  , -0.59927661, -2.38724499,\n",
       "       -2.17450607, -0.96508138,  2.36836476,  0.92321511, -2.38724499,\n",
       "       -0.59927661, -2.17450607, -0.59927661, -1.67586657, -2.38724499,\n",
       "       -2.75580468, -1.30730689, -0.59927661, -2.38724499,  1.89581965,\n",
       "       -2.38724499, -2.75580468,  1.50451373,  1.50451373,  0.42457562,\n",
       "       -0.23071693, -1.09456796, -2.17450607, -2.17450607,  1.89581965,\n",
       "       -2.24407593, -1.30730689, -2.75580468, -0.52252776, -0.017978  ,\n",
       "        0.21183669,  2.58110369, -0.59927661, -2.17450607, -2.24407593,\n",
       "       -2.38724499, -2.17450607, -0.59927661, -0.96508138, -2.17450607,\n",
       "       -2.38724499,  1.99980507, -2.38724499,  2.58110369, -2.17450607,\n",
       "       -2.3092099 ,  0.42457562,  0.21183669, -0.156723  ,  2.44639985,\n",
       "       -0.15268183,  1.50451373, -0.23071693, -2.17450607, -2.17450607,\n",
       "       -2.17450607, -2.38724499, -0.59927661,  1.99980507, -2.17450607,\n",
       "       -0.59927661,  1.50451373, -2.38724499,  0.92321511, -2.17450607,\n",
       "        2.58110369, -2.17450607, -2.38724499,  1.99980507, -2.38724499,\n",
       "       -2.75580468,  0.92321511, -0.23071693, -2.75580468, -1.09456796,\n",
       "        2.97575776, -2.38724499, -2.3092099 ,  0.21183669,  0.42457562,\n",
       "        1.43494386, -0.59927661,  2.58110369, -2.38724499,  2.58110369,\n",
       "        1.99980507,  0.35500575,  0.35500575, -1.09456796, -0.59927661,\n",
       "       -0.96508138,  1.50451373, -1.30730689, -2.17450607, -1.16413782,\n",
       "       -0.15268183, -1.09456796, -2.38724499, -2.17450607,  0.42457562,\n",
       "       -0.96508138,  1.99980507, -0.23071693,  1.99980507, -0.156723  ,\n",
       "       -2.38724499, -2.75580468, -1.09456796, -2.38724499,  0.21183669,\n",
       "       -2.17450607, -2.17450607,  0.42457562, -2.38724499, -2.17450607,\n",
       "       -2.04167134,  1.99980507, -0.59927661,  0.21183669, -2.3092099 ,\n",
       "       -2.17450607,  1.50451373,  1.99980507,  0.21183669, -2.17450607,\n",
       "        1.50451373,  1.99980507, -1.67586657, -0.59927661, -2.38724499,\n",
       "        2.44639985, -1.67586657, -0.59927661, -2.17450607, -2.38724499,\n",
       "       -2.17450607,  1.99980507, -2.75580468,  0.21183669, -1.67586657,\n",
       "       -2.75580468,  1.2917748 , -2.75580468, -2.38724499, -0.59927661,\n",
       "        1.50451373, -2.38724499, -0.23071693, -2.75580468, -0.017978  ,\n",
       "       -2.75580468, -2.17450607, -0.017978  ,  1.50451373,  1.99980507,\n",
       "       -0.156723  , -2.38724499,  0.21183669, -2.38724499, -2.17450607,\n",
       "        1.50451373, -2.17450607,  0.42457562,  2.97575776, -1.09456796,\n",
       "       -2.17450607, -0.59927661, -2.17450607, -2.17450607, -2.17450607,\n",
       "       -0.96508138, -1.67586657,  2.58110369, -2.17450607, -2.38724499,\n",
       "       -0.96508138, -2.75580468, -0.017978  , -0.23071693,  0.35500575,\n",
       "        1.50451373, -2.17450607, -1.09456796, -0.156723  , -2.38724499,\n",
       "       -2.17450607,  2.58110369,  1.89581965, -2.38724499,  1.89581965,\n",
       "       -0.59927661, -2.17450607, -0.59927661, -2.38724499,  0.42457562,\n",
       "       -2.38724499,  1.36980989, -2.17450607,  0.21183669,  0.28987178,\n",
       "       -1.09456796, -2.38724499,  0.42457562, -1.09456796, -0.59927661,\n",
       "       -0.59927661, -2.75580468, -0.59927661, -2.75580468, -2.17450607,\n",
       "       -1.09456796, -1.09456796, -2.38724499, -2.75580468,  2.36836476,\n",
       "        0.92321511, -0.017978  , -2.04167134, -1.09456796, -1.30730689,\n",
       "       -2.3092099 , -2.17450607,  0.28987178, -0.156723  , -0.59927661,\n",
       "        0.21183669, -0.017978  , -2.17450607, -2.3092099 , -1.67586657,\n",
       "       -1.09456796, -2.3092099 , -2.17450607, -2.3092099 ,  2.44639985,\n",
       "       -0.017978  ,  1.89581965, -2.38724499, -2.17450607, -0.59927661,\n",
       "       -1.67586657, -2.75580468,  0.21183669, -0.59927661, -2.75580468,\n",
       "        2.44639985, -0.017978  ,  0.28987178, -2.17450607, -2.17450607,\n",
       "       -1.67586657,  0.92321511, -0.59927661,  2.58110369, -2.38724499,\n",
       "        2.58110369, -0.23071693, -0.59927661, -2.17450607, -1.67586657,\n",
       "       -2.17450607,  1.99980507,  1.50451373, -2.38724499, -2.17450607,\n",
       "        1.43494386, -2.3092099 , -1.09456796, -1.67586657, -0.017978  ,\n",
       "       -2.17450607,  1.50451373,  0.21183669, -1.09456796,  0.42457562,\n",
       "        2.58110369, -2.24407593, -1.30730689, -1.09456796, -1.09456796,\n",
       "       -2.17450607, -0.156723  , -0.017978  , -2.38724499, -2.38724499,\n",
       "       -0.23071693, -0.59927661,  2.58110369, -2.17450607, -2.17450607,\n",
       "       -0.96508138, -2.3092099 ,  1.50451373, -0.017978  , -2.17450607,\n",
       "        2.97575776, -2.24407593, -2.17450607, -2.17450607,  0.92321511,\n",
       "        0.37667607, -2.17450607, -1.22927179, -2.17450607,  2.58110369,\n",
       "       -2.38724499, -2.75580468, -2.17450607,  1.99980507, -2.3092099 ,\n",
       "        1.99980507, -0.23071693,  0.42457562, -2.38724499, -2.17450607,\n",
       "       -2.17450607, -2.75580468,  0.92321511, -2.38724499,  0.92321511,\n",
       "       -2.3092099 , -2.38724499,  1.89581965, -2.38724499,  1.99980507,\n",
       "        0.28987178,  2.44639985, -0.017978  , -2.38724499, -2.17450607,\n",
       "       -2.17450607,  0.28987178, -2.24407593, -0.70326203, -0.59927661,\n",
       "       -2.38724499, -1.22927179,  0.21183669, -0.23071693, -2.17450607,\n",
       "       -1.67586657,  1.99980507,  0.42457562, -2.17450607,  0.42457562,\n",
       "       -1.09456796,  1.50451373, -0.08754786, -0.70326203, -2.17450607,\n",
       "       -2.17450607, -0.59927661,  0.28987178, -1.67586657,  2.58110369,\n",
       "       -2.17450607, -2.75580468, -1.09456796,  0.35500575, -2.17450607,\n",
       "       -0.23071693,  0.42457562, -1.09456796, -2.75580468, -2.24407593,\n",
       "        1.99980507, -2.17450607, -0.59927661,  0.42457562, -0.70326203,\n",
       "       -2.38724499, -2.38724499,  0.37667607, -2.38724499,  1.6340003 ,\n",
       "        0.28987178,  0.37667607, -2.38724499, -2.17450607, -2.3092099 ,\n",
       "        1.99980507, -2.17450607, -2.38724499, -2.17450607, -0.23071693,\n",
       "       -2.17450607, -1.22927179,  2.58110369, -2.17450607, -2.3092099 ,\n",
       "       -2.75580468, -2.38724499, -2.17450607, -1.09456796,  2.36836476,\n",
       "       -0.70326203, -3.12160945,  0.35500575,  2.44639985,  0.92321511,\n",
       "        0.28987178,  1.99980507, -0.59927661,  0.42457562, -2.38724499,\n",
       "       -2.75580468, -1.09456796,  1.99980507,  0.21183669, -1.09456796,\n",
       "        0.92321511,  1.50451373, -0.017978  , -2.38724499, -0.70326203,\n",
       "       -2.17450607,  1.99980507, -0.017978  , -2.75580468,  1.50451373,\n",
       "        0.28987178, -2.17450607, -2.17450607, -2.38724499,  1.99980507,\n",
       "        1.50451373, -2.17450607,  0.42457562, -1.09456796, -2.17450607,\n",
       "       -0.156723  , -1.09456796,  2.58110369,  0.21183669, -0.017978  ,\n",
       "       -2.17450607])"
      ]
     },
     "execution_count": 29,
     "metadata": {},
     "output_type": "execute_result"
    }
   ],
   "source": [
    "lr.decision_function(train[columns])"
   ]
  },
  {
   "cell_type": "code",
   "execution_count": 30,
   "metadata": {
    "_cell_guid": "de8b5ce1-3ead-4bad-80a9-c38af62d706c",
    "_uuid": "de05ce968d010c6a6a7f96166d7aad97e3997822"
   },
   "outputs": [
    {
     "data": {
      "text/plain": [
       "array([[ 1.1006657 ,  0.02407574, -1.05586237,  1.33398038, -1.2651013 ,\n",
       "        -0.1351604 ,  1.54882256,  0.00800866, -0.05712531,  0.07757852,\n",
       "        -0.50372009, -0.86952486]])"
      ]
     },
     "execution_count": 30,
     "metadata": {},
     "output_type": "execute_result"
    }
   ],
   "source": [
    "lr.coef_"
   ]
  },
  {
   "cell_type": "code",
   "execution_count": null,
   "metadata": {
    "_cell_guid": "9afff557-fc69-4dff-be13-1f819110b6b0",
    "_uuid": "2c1002c689e8a5211224d8b1d8ad00a858611c12",
    "collapsed": true
   },
   "outputs": [],
   "source": [
    "# lr = LogisticRegression()\n",
    "# lr.fit(train[columns], train['Survived'])"
   ]
  },
  {
   "cell_type": "markdown",
   "metadata": {
    "_cell_guid": "aa7c070b-7277-4a6e-ac70-87c1c500e1db",
    "_uuid": "fec795a1a2f6d5fd73ae44614b80abe1f8ed74ad"
   },
   "source": [
    "## 6. Splitting our Training Data"
   ]
  },
  {
   "cell_type": "markdown",
   "metadata": {
    "_cell_guid": "efabbdd9-81b3-4882-ae03-131786f12b4d",
    "_uuid": "3cb196009407ec4c1f031027661b611fd6aba287"
   },
   "source": [
    "Congratulations, you've trained your first machine learning model! Our next step is to find out how accurate our model is, and to do that, we'll have to make some predictions.\n",
    "\n",
    "If you recall from earlier, we do have a test dataframe that we could use to make predictions. We could make predictions on that data set, but because it doesn't have the Survived column we would have to submit it to Kaggle to find out our accuracy. This would quickly become a pain if we had to submit to find out the accuracy every time we optimized our model.\n",
    "\n",
    "We could also fit and predict on our train dataframe, however if we do this there is a high likelihood that our model will overfit, which means it will perform well because we're testing on the same data we've trained on, but then perform much worse on new, unseen data.\n",
    "\n",
    "Instead we can split our train dataframe into two:\n",
    "\n",
    "* One part to train our model on (often 80% of the observations)\n",
    "* One part to make predictions with and test our model (often 20% of the observations)\n",
    "\n",
    "The convention in machine learning is to call these two parts train and test. This can become confusing, since we already have our test dataframe that we will eventually use to make predictions to submit to Kaggle. To avoid confusion, from here on, we're going to call this Kaggle 'test' data holdout data, which is the technical name given to this type of data used for final predictions.\n",
    "\n",
    "The scikit-learn library has a handy [```model_selection.train_test_split()```](http://scikit-learn.org/stable/modules/generated/sklearn.model_selection.train_test_split.html) function that we can use to split our data. train_test_split() accepts two parameters, ```X``` and ```y```, which contain all the data we want to train and test on, and returns four objects: ```train_X, train_y, test_X, test_y```:"
   ]
  },
  {
   "cell_type": "markdown",
   "metadata": {
    "_cell_guid": "7fe3e291-fa4a-4698-9b1c-a9530fc65721",
    "_uuid": "a2ed3abc31b1622f820013f4bacffddb494722e5"
   },
   "source": [
    "![](https://s3.amazonaws.com/dq-content/185/kaggle_train_test_split.svg)"
   ]
  },
  {
   "cell_type": "markdown",
   "metadata": {
    "_cell_guid": "dd08c1c7-c7c1-4d6e-99a7-390234f2d547",
    "_uuid": "102aa92be2848c2a2ce4d6ca4d37b1c7aa4fcbe1"
   },
   "source": [
    "Here's what the syntax for creating these four objects looks like:\n",
    "\n",
    "```python\n",
    "from sklearn.model_selection import train_test_split\n",
    "\n",
    "columns = ['Pclass_2', 'Pclass_3', 'Sex_male']\n",
    "\n",
    "all_X = train[columns]\n",
    "all_y = train['Survived']\n",
    "\n",
    "train_X, test_X, train_y, test_y = train_test_split(\n",
    "    all_X, all_y, test_size=0.2,random_state=0)\n",
    "```\n",
    "\n",
    "You'll notice that there are two other parameters we used: ```test_size```, which lets us control what proportions our data are split into, and ```random_state```. The ```train_test_split()``` function randomizes observations before dividing them, and setting a random seed means that our results will be reproducible, which is important if you are collaborating, or need to produce consistent results each time."
   ]
  },
  {
   "cell_type": "markdown",
   "metadata": {
    "_cell_guid": "8f6b6d7b-2106-4537-9533-94552560ae5c",
    "_uuid": "be32178cc446763782d184037e12c5c31901b049"
   },
   "source": [
    "### Instructions\n",
    "\n",
    "* Use the model_selection.train_test_split() function to split the train dataframe using the following parameters:\n",
    "    * test_size of 0.2.\n",
    "    * random_state of 0.\n",
    "* Assign the four returned objects to train_X, test_X, train_y, and test_y."
   ]
  },
  {
   "cell_type": "code",
   "execution_count": 31,
   "metadata": {
    "_cell_guid": "1d88d118-f875-42b1-a898-b25e2d9a2f1f",
    "_uuid": "6184ee18a60bafe1369e62e2ed5faf64ec0e0d9f",
    "collapsed": true
   },
   "outputs": [],
   "source": [
    "holdout = test # from now on we will refer to this\n",
    "               # dataframe as the holdout data\n",
    "\n",
    "from sklearn.model_selection import train_test_split\n",
    "\n",
    "columns = ['Pclass_1', 'Pclass_2', 'Pclass_3', 'Sex_female', 'Sex_male',\n",
    "       'Age_categories_Missing','Age_categories_Infant',\n",
    "       'Age_categories_Child', 'Age_categories_Teenager',\n",
    "       'Age_categories_Young Adult', 'Age_categories_Adult',\n",
    "       'Age_categories_Senior']\n",
    "\n",
    "all_X = train[columns]\n",
    "all_y = train['Survived']\n",
    "\n",
    "train_X, test_X, train_y, test_y = train_test_split(\n",
    "    all_X, all_y, test_size=0.2,random_state=0)"
   ]
  },
  {
   "cell_type": "code",
   "execution_count": 33,
   "metadata": {
    "_cell_guid": "4a4270c0-8a35-4705-aad5-6ea7b36e8bcd",
    "_uuid": "d80e9d974f73d99dd29378bd1e56889498ae4fc3"
   },
   "outputs": [
    {
     "data": {
      "text/plain": [
       "(712, 12)"
      ]
     },
     "execution_count": 33,
     "metadata": {},
     "output_type": "execute_result"
    }
   ],
   "source": [
    "train_X.shape"
   ]
  },
  {
   "cell_type": "markdown",
   "metadata": {
    "_cell_guid": "2881b09d-629b-48f1-a32b-20a150b85639",
    "_uuid": "cd5c1a42164574d618bf3eb8ce272e2af553ebd3"
   },
   "source": [
    "## 7. Making Predictions and Measuring their Accuracy"
   ]
  },
  {
   "cell_type": "markdown",
   "metadata": {
    "_cell_guid": "a4868d6a-51eb-4657-9d77-77fa9592e3c3",
    "_uuid": "88f255bb00ef07be0caf49b9ae9636421fc679bd"
   },
   "source": [
    "Now that we have our data split into train and test sets, we can fit our model again on our training set, and then use that model to make predictions on our test set.\n",
    "\n",
    "Once we have fit our model, we can use the ```LogisticRegression.predict()``` method to make predictions.\n",
    "\n",
    "The ```predict()``` method takes a single parameter ```X```, a two dimensional array of features for the observations we wish to predict. ```X``` must have the exact same features as the array we used to fit our model. The method returns single dimensional array of predictions.\n",
    "\n",
    "```python\n",
    "lr = LogisticRegression()\n",
    "lr.fit(train_X, train_y)\n",
    "predictions = lr.predict(test_X)\n",
    "```"
   ]
  },
  {
   "cell_type": "markdown",
   "metadata": {
    "_cell_guid": "0b177159-c0c3-403b-af4e-39f9f41ca2f3",
    "_uuid": "150c731afe7ca4c4da8c2d14d81f9653bd1f96a7"
   },
   "source": [
    "There are a number of ways to measure the accuracy of machine learning models, but when competing in Kaggle competitions you want to make sure you use the same method that Kaggle uses to calculate accuracy for that specific competition.\n",
    "\n",
    "In this case, [the evaluation section for the Titanic competition on Kaggle](https://www.kaggle.com/c/titanic#evaluation) tells us that our score calculated as \"the percentage of passengers correctly predicted\". This is by far the most common form of accuracy for binary classification.\n",
    "\n",
    "As an example, imagine we were predicting a small data set of five observations."
   ]
  },
  {
   "cell_type": "markdown",
   "metadata": {
    "_cell_guid": "9a8e3b8f-0fb8-4888-ad4d-b9c003ca2dea",
    "_uuid": "650162608c2c17945085e46d6ee4273446f80359"
   },
   "source": [
    "|Our model's prediction|The actual value|Correct|\n",
    "|----------------------|----------------|-------|\n",
    "|0                     |0               |Yes    |\n",
    "|1                     |0               |No     |\n",
    "|0                     |1               |No     |\n",
    "|1                     |1               |Yes    |\n",
    "|1                     |1               |Yes    |"
   ]
  },
  {
   "cell_type": "markdown",
   "metadata": {
    "_cell_guid": "c360c258-c372-40ee-856b-7aacc23dc0a7",
    "_uuid": "db00cc2f3bf44265dc7797a21a08ada72401af9d"
   },
   "source": [
    "In this case, our model correctly predicted three out of five values, so the accuracy based on this prediction set would be 60%.\n",
    "\n",
    "Again, scikit-learn has a handy function we can use to calculate accuracy: [```metrics.accuracy_score()```](http://scikit-learn.org/stable/modules/generated/sklearn.metrics.accuracy_score.html). The function accepts two parameters, ```y_true``` and ```y_pred```, which are the actual values and our predicted values respectively, and returns our accuracy score.\n",
    "\n",
    "```python \n",
    "from sklearn.metrics import accuracy_score\n",
    "accuracy = accuracy_score(test_y, predictions)\n",
    "```\n",
    "\n",
    "Let's put all of these steps together, and get our first accuracy score."
   ]
  },
  {
   "cell_type": "markdown",
   "metadata": {
    "_cell_guid": "4cbfb29b-4e2a-407b-87c4-684b73e696d0",
    "_uuid": "519d6d101a6ee173b44848b61a5ec42b05d15cc5"
   },
   "source": [
    "### Instructions\n",
    "\n",
    "* Instantiate a new ```LogisticRegression()``` object, ```lr```.\n",
    "* Fit the model using ```train_X``` and ```train_y```.\n",
    "* Make predictions using ```test_X``` and assign the results to ```predictions```.\n",
    "* Use ```accuracy_score()``` to compare ```test_y``` and ```predictions```, assigning the result to ```accuracy```\n",
    "* Print the ```accuracy``` variable."
   ]
  },
  {
   "cell_type": "code",
   "execution_count": 34,
   "metadata": {
    "_cell_guid": "4f7b65e7-b92a-492e-81a0-269890602a4c",
    "_uuid": "e7a6b650cbf06bd3e3ea2eaaf146ed30f6101f96",
    "collapsed": true
   },
   "outputs": [],
   "source": [
    "from sklearn.metrics import accuracy_score"
   ]
  },
  {
   "cell_type": "code",
   "execution_count": 46,
   "metadata": {
    "_cell_guid": "ca7fdf3f-84c4-4062-bb77-d57e1240a54b",
    "_uuid": "d18a458a7a3783ab28f06fb01709a4b30dd070f7",
    "scrolled": true
   },
   "outputs": [
    {
     "data": {
      "text/plain": [
       "0.81005586592178769"
      ]
     },
     "execution_count": 46,
     "metadata": {},
     "output_type": "execute_result"
    }
   ],
   "source": [
    "lr = LogisticRegression()\n",
    "lr.fit(train_X, train_y)\n",
    "predictions = lr.predict(test_X)\n",
    "accuracy = accuracy_score(test_y, predictions)\n",
    "accuracy"
   ]
  },
  {
   "cell_type": "code",
   "execution_count": 51,
   "metadata": {
    "_cell_guid": "881ceab0-1862-433a-8f12-fa09d1c09469",
    "_uuid": "815bba401eb31764d72ecd545fcc47320f9ceaa7"
   },
   "outputs": [
    {
     "name": "stderr",
     "output_type": "stream",
     "text": [
      "C:\\ProgramData\\Anaconda3\\lib\\site-packages\\sklearn\\discriminant_analysis.py:695: UserWarning: Variables are collinear\n",
      "  warnings.warn(\"Variables are collinear\")\n"
     ]
    },
    {
     "data": {
      "text/plain": [
       "0.81005586592178769"
      ]
     },
     "execution_count": 51,
     "metadata": {},
     "output_type": "execute_result"
    }
   ],
   "source": [
    "# from sklearn.metrics import confusion_matrix\n",
    "\n",
    "# conf_matrix = confusion_matrix(test_y, predictions)\n",
    "# pd.DataFrame(conf_matrix, columns=['Survived', 'Died'], index=[['Survived', 'Died']])\n",
    "from sklearn.discriminant_analysis import QuadraticDiscriminantAnalysis \n",
    "from sklearn.svm import SVC\n",
    "#clf = SVC(gamma='auto')\n",
    "clf = QuadraticDiscriminantAnalysis()\n",
    "clf.fit(train_X, train_y)\n",
    "pred = clf.predict(test_X)\n",
    "accuracy = accuracy_score(test_y, pred)\n",
    "accuracy"
   ]
  },
  {
   "cell_type": "markdown",
   "metadata": {
    "_cell_guid": "b391966f-c8da-4377-a82a-e2f29527bde6",
    "_uuid": "6fc9538ed2a3dfe4ffa2457136e306cd2553e082"
   },
   "source": [
    "## Using Cross Validation for More Accurate Error Measurement"
   ]
  },
  {
   "cell_type": "markdown",
   "metadata": {
    "_cell_guid": "72eef752-4f63-4e34-8519-e48bd075ad1f",
    "_uuid": "247a6d78b506fc7df36ccd13b831462b64567ace"
   },
   "source": [
    "Our model has an accuracy score of 81.0% when tested against our 20% test set. Given that this data set is quite small, there is a good chance that our model is overfitting, and will not perform as well on totally unseen data.\n",
    "\n",
    "To give us a better understanding of the real performance of our model, we can use a technique called **cross validation** to train and test our model on different splits of our data, and then average the accuracy scores."
   ]
  },
  {
   "cell_type": "markdown",
   "metadata": {
    "_cell_guid": "ca68d862-4920-496a-a5e7-eebd909038f9",
    "_uuid": "9a7cffe679420e7e2234c515c8a6cc1f75771dba"
   },
   "source": [
    "![](https://s3.amazonaws.com/dq-content/185/kaggle_cross_validation.svg)"
   ]
  },
  {
   "cell_type": "markdown",
   "metadata": {
    "_cell_guid": "cb09a6a4-0f07-41fb-bc13-eb36aaa49f74",
    "_uuid": "1b3b9b2f8ad9ac6e5d8aa34a091598b43c644f6b"
   },
   "source": [
    "The most common form of cross validation, and the one we will be using, is called **k-fold** cross validation. 'Fold' refers to each different iteration that we train our model on, and 'k' just refers to the number of folds. In the diagram above, we have illustrated k-fold validation where k is 5.\n",
    "\n",
    "We will use scikit-learn's [```model_selection.cross_val_score()``` function](http://scikit-learn.org/stable/modules/generated/sklearn.model_selection.cross_val_score.html#sklearn.model_selection.cross_val_score) to automate the process. The basic syntax for ```cross_val_score()``` is:"
   ]
  },
  {
   "cell_type": "markdown",
   "metadata": {
    "_cell_guid": "3b6738fc-78c5-49ab-9267-c88682f0fdac",
    "_uuid": "35831e60ad6738fea5079365126b937f7071a5d6"
   },
   "source": [
    "```python\n",
    "cross_val_score(estimator, X, y, cv=None)\n",
    "```"
   ]
  },
  {
   "cell_type": "markdown",
   "metadata": {
    "_cell_guid": "29c545eb-a98e-481e-8358-61ea87ec3c0d",
    "_uuid": "24856991795248188d7a0551f53129be3b2e09b8"
   },
   "source": [
    "* estimator is a scikit-learn estimator object, like the LogisticRegression() objects we have been creating.\n",
    "* X is all features from our data set.\n",
    "* y is the target variables.\n",
    "* cv specifies the number of folds.\n",
    "\n",
    "The function returns a numpy ndarray of the accuracy scores of each fold.\n",
    "\n",
    "It's worth noting, the ```cross_val_score()``` function can use a variety of cross validation techniques and scoring types, but it defaults to k-fold validation and accuracy scores for our input types."
   ]
  },
  {
   "cell_type": "markdown",
   "metadata": {
    "_cell_guid": "a4e65570-94c9-411e-adf3-84fcaa81cf67",
    "_uuid": "daa12cab3559aa711e2357def11876338a2ad35e"
   },
   "source": [
    "### Instructions\n",
    "\n",
    "* Instantiate a new LogisticRegression() object, lr.\n",
    "* Use model_selection.cross_val_score() to perform cross-validation on our data and assign the results to scores:\n",
    "    * Use the newly created lr as the estimator.\n",
    "    * Use all_X and all_y as the input data.\n",
    "    * Specify 10 folds to be used.\n",
    "* Use the numpy.mean() function to calculate the mean of scores and assign the result to accuracy.\n",
    "* Print the variables scores and accuracy."
   ]
  },
  {
   "cell_type": "code",
   "execution_count": null,
   "metadata": {
    "_cell_guid": "9b90797a-29bf-478b-9c47-4ff715dfb8aa",
    "_uuid": "0f5facf07093ae82057dad974a31b7d742ccb8c4",
    "collapsed": true
   },
   "outputs": [],
   "source": [
    "from sklearn.model_selection import cross_val_score\n",
    "import numpy as np\n",
    "\n",
    "lr = LogisticRegression()\n",
    "scores = cross_val_score(lr, all_X, all_y, cv=10)\n",
    "np.mean(scores)"
   ]
  },
  {
   "cell_type": "markdown",
   "metadata": {
    "_cell_guid": "604e9787-4501-4d8e-b640-0f4ab7688c2a",
    "_uuid": "4aa1c3e51c040ec5a948204da5364197715a0de5"
   },
   "source": [
    "## 9. Making Predictions on Unseen Data\n",
    "\n",
    "From the results of our k-fold validation, you can see that the accuracy number varies with each fold - ranging between 76.4% and 87.6%. This demonstrates why cross validation is important.\n",
    "\n",
    "As it happens, our average accuracy score was 80.2%, which is not far from the 81.0% we got from our simple train/test split, however this will not always be the case, and you should always use cross-validation to make sure the error metrics you are getting from your model are accurate.\n",
    "\n",
    "We are now ready to use the model we have built to train our final model and then make predictions on our unseen holdout data, or what Kaggle calls the 'test' data set."
   ]
  },
  {
   "cell_type": "markdown",
   "metadata": {
    "_cell_guid": "d40e593e-8363-4b6f-9c5c-244b4712c3f5",
    "_uuid": "4a211474746e0e7483f97c0f2c60e94c7223fe3f"
   },
   "source": [
    "### Instructions\n",
    "\n",
    "* Instantiate a new ```LogisticRegression()``` object, ```lr```.\n",
    "* Use the ```fit()``` method to train the model ```lr``` using all of the Kaggle training data: ```all_X``` and ```all_y```.\n",
    "* Make predictions using the ```holdout``` data and assign the result to ```holdout_predictions```."
   ]
  },
  {
   "cell_type": "code",
   "execution_count": null,
   "metadata": {
    "_cell_guid": "1c4638e3-31eb-42cb-97d4-ccbc077b1921",
    "_uuid": "2e648299c1347d425ea2ef9ec1aa293f2f1d24a7",
    "collapsed": true
   },
   "outputs": [],
   "source": [
    "columns = ['Pclass_1', 'Pclass_2', 'Pclass_3', 'Sex_female', 'Sex_male',\n",
    "       'Age_categories_Missing','Age_categories_Infant',\n",
    "       'Age_categories_Child', 'Age_categories_Teenager',\n",
    "       'Age_categories_Young Adult', 'Age_categories_Adult',\n",
    "       'Age_categories_Senior']"
   ]
  },
  {
   "cell_type": "code",
   "execution_count": null,
   "metadata": {
    "_cell_guid": "d3c3048a-d2b4-4e27-aee1-f654339b7fa5",
    "_uuid": "8483be1f8e813eba167339ae09cfe6dde342eae1",
    "collapsed": true
   },
   "outputs": [],
   "source": [
    "holdout.head()"
   ]
  },
  {
   "cell_type": "code",
   "execution_count": null,
   "metadata": {
    "_cell_guid": "4aa6c826-26e3-4b5e-8566-4e05e70ea395",
    "_uuid": "9711c24e72d7263f50d8f8968a8856f668a71364",
    "collapsed": true
   },
   "outputs": [],
   "source": [
    "lr = LogisticRegression()\n",
    "lr.fit(all_X, all_y)\n",
    "holdout_predictions = lr.predict(holdout[columns])\n",
    "holdout_predictions"
   ]
  },
  {
   "cell_type": "markdown",
   "metadata": {
    "_cell_guid": "96438d53-b006-402c-a556-d216e09b01ba",
    "_uuid": "1cfca7733018457ca35223b0b423e3e45f7d1af4"
   },
   "source": [
    "## 10. Creating a Submission File"
   ]
  },
  {
   "cell_type": "markdown",
   "metadata": {
    "_cell_guid": "1dc7f737-02d6-4d19-9fa2-b322e43ae8cd",
    "_uuid": "f46f6670f1122780fc012b4a64e29c4b2e32f11a"
   },
   "source": [
    "The last thing we need to do is create a submission file. Each Kaggle competition can have slightly different requirements for the submission file. Here's what is specified on the [Titanic competition evaluation page](https://www.kaggle.com/c/titanic#evaluation):\n",
    "\n",
    "You should submit a csv file with exactly 418 entries plus a header row. Your submission will show an error if you have extra columns (beyond PassengerId and Survived) or rows.\n",
    "\n",
    "The file should have exactly 2 columns:\n",
    "\n",
    "PassengerId (sorted in any order)\n",
    "Survived (contains your binary predictions: 1 for survived, 0 for deceased)\n",
    "The table below shows this in a slightly easier to understand format, so we can visualize what we are aiming for."
   ]
  },
  {
   "cell_type": "markdown",
   "metadata": {
    "_cell_guid": "df5f06af-f996-4594-b290-778505104498",
    "_uuid": "e60039e5533e1e364a0c477e1a9c777e5892614b"
   },
   "source": [
    "|PassengerId|Survived|\n",
    "|-----------|--------|\n",
    "|892        |0       |\n",
    "|893        |1       |\n",
    "|894        |0       |"
   ]
  },
  {
   "cell_type": "markdown",
   "metadata": {
    "_cell_guid": "0d6a7b37-862e-41db-bcbb-c30f6eb87971",
    "_uuid": "7b91fbe68af2effbd4922c7845c7cf7286de3712"
   },
   "source": [
    "We will need to create a new dataframe that contains the holdout_predictions we created in the previous screen and the PassengerId column from the holdout dataframe. We don't need to worry about matching the data up, as both of these remain in their original order.\n",
    "\n",
    "To do this, we can pass a dictionary to the [```pandas.DataFrame()``` function](https://pandas.pydata.org/pandas-docs/stable/generated/pandas.DataFrame.html):"
   ]
  },
  {
   "cell_type": "markdown",
   "metadata": {
    "_cell_guid": "9c97b44c-28f7-4ab3-9a10-84138ac3dfdb",
    "_uuid": "4a114e6705719010c190bd4830e827542e056b27"
   },
   "source": [
    "```python\n",
    "holdout_ids = holdout[\"PassengerId\"]\n",
    "submission_df = {\"PassengerId\": holdout_ids,\n",
    "                 \"Survived\": holdout_predictions}\n",
    "submission = pd.DataFrame(submission_df)\n",
    "```"
   ]
  },
  {
   "cell_type": "markdown",
   "metadata": {
    "_cell_guid": "0e265374-0a8b-41f0-b7e2-3a124190d915",
    "_uuid": "5a6c8bdce2b2f2af5814046cd1890b263364bf39"
   },
   "source": [
    "Finally, we'll use the [```DataFrame.to_csv()``` method](http://pandas.pydata.org/pandas-docs/stable/generated/pandas.DataFrame.to_csv.html) to save the dataframe to a CSV file. We need to make sure the index parameter is set to False, otherwise we will add an extra column to our CSV."
   ]
  },
  {
   "cell_type": "markdown",
   "metadata": {
    "_cell_guid": "d612b812-1a32-4178-93c0-1ea70a1b28ba",
    "_uuid": "c7d2bbef96ceab369372406fdd57a07dae85ba56"
   },
   "source": [
    "### Instructions\n",
    "\n",
    "* Create a dataframe submission that matches Kaggle's specification.\n",
    "* Use the ```to_csv()``` method to save the ```submission``` dataframe using the filename ```submission.csv```, using the documentation to look up the correct syntax."
   ]
  },
  {
   "cell_type": "code",
   "execution_count": null,
   "metadata": {
    "_cell_guid": "0c6cce5b-ad8a-4a62-8038-30e6d3fd6460",
    "_uuid": "47a1349026f9e239a1e76c517bca4a28f78f7c81",
    "collapsed": true
   },
   "outputs": [],
   "source": [
    "holdout_ids = holdout[\"PassengerId\"]\n",
    "submission_df = {\"PassengerId\": holdout_ids,\n",
    "                 \"Survived\": holdout_predictions}\n",
    "submission = pd.DataFrame(submission_df)\n",
    "\n",
    "submission.to_csv('titanic_submission.csv', index=False)"
   ]
  },
  {
   "cell_type": "markdown",
   "metadata": {
    "_cell_guid": "1366f8ea-969e-4145-99f8-59ecee3e2333",
    "_uuid": "dd7fca4c2569857d6fa6098defdad2ced9100874"
   },
   "source": [
    "## 11. Making our First Submission to Kaggle\n",
    "\n",
    "Now that we have our submission file, we can start our submission to Kaggle by clicking the blue 'Submit Predictions' button on the competition page."
   ]
  },
  {
   "cell_type": "markdown",
   "metadata": {
    "_cell_guid": "8da78bc0-90a0-4e20-9520-76c82b85a17b",
    "_uuid": "bdfb416c8ff3fb17aa70b69e52a659ebb457d67d"
   },
   "source": [
    "![](https://s3.amazonaws.com/dq-content/185/kaggle_submit.jpg)"
   ]
  },
  {
   "cell_type": "markdown",
   "metadata": {
    "_cell_guid": "66103d95-1967-402f-a664-0347e86a6834",
    "_uuid": "fd6f225377362a1803636447a308b33214f4aed1"
   },
   "source": [
    "You will then be prompted to upload your CSV file, and add a brief description of your submission. When you make your submission, Kaggle will process your predictions and give you your accuracy for the holdout data and your ranking. When it is finished processing you will see our first submission gets an accuracy score of 0.75598, or 75.6%."
   ]
  },
  {
   "cell_type": "markdown",
   "metadata": {
    "_cell_guid": "4fe30bc2-76db-4467-aea4-feb46bec27bb",
    "_uuid": "a6fada2e2eed737de0223e738446642035f2a301"
   },
   "source": [
    "![](https://s3.amazonaws.com/dq-content/185/submission_rank.png)"
   ]
  },
  {
   "cell_type": "markdown",
   "metadata": {
    "_cell_guid": "40e4e5c6-94dd-4293-93fb-615c51f41ca4",
    "_uuid": "d38feee7e5387bee299d6f32b0b245260e26c5f8"
   },
   "source": [
    "The fact that our accuracy on the holdout data is 75.6% compared with the 80.2% accuracy we got with cross-validation indicates that our model is overfitting slightly to our training data.\n",
    "\n",
    "At the time of writing, accuracy of 75.6% gives a rank of 6,663 out of 7,954. It's easy to look at Kaggle leaderboards after your first submission and get discouraged, but keep in mind that this is just a starting point.\n",
    "\n",
    "It's also very common to see a small number of scores of 100% at the top of the Titanic leaderboard and think that you have a long way to go. In reality, anyone scoring about 90% on this competition is likely cheating (it's easy to look up the names of the passengers in the holdout set online and see if they survived).\n",
    "\n",
    "There is a great analysis on Kaggle, How am I doing with my score, which uses a few different strategies and suggests a minimum score for this competition is 62.7% (achieved by presuming that every passenger died) and a maximum of around 82%. We are a little over halfway between the minimum and maximum, which is a great starting point."
   ]
  },
  {
   "cell_type": "markdown",
   "metadata": {
    "_cell_guid": "7a8d7ae4-c456-43ef-b353-7e6304185037",
    "_uuid": "e0fa4d9a957287bcf781eb503b6fbf6f7b087671"
   },
   "source": [
    "## 12. Next Steps"
   ]
  },
  {
   "cell_type": "markdown",
   "metadata": {
    "_cell_guid": "a24c472d-6df8-4b25-b6cc-f867174da783",
    "_uuid": "19aac309b0cbbcb29f68a14333d39ddac26fdb49"
   },
   "source": [
    "There are many things we can do to improve the accuracy of our model. Here are some that we will cover in the next two missions of this course:\n",
    "\n",
    "* Improving the features:\n",
    "    * Feature Engineering: Create new features from the existing data.\n",
    "    * Feature Selection: Select the most relevant features to reduce noise and overfitting.\n",
    "* Improving the model:\n",
    "    * Model Selection: Try a variety of models to improve performance.\n",
    "    * Hyperparameter Optimization: Optimize the settings within each particular machine learning model."
   ]
  },
  {
   "cell_type": "markdown",
   "metadata": {
    "_cell_guid": "e815964c-4a41-4695-bd27-b06563268128",
    "_uuid": "b4e588b70e4620241c6f3bc47e5c70a89b4de084"
   },
   "source": [
    "## Resources\n",
    "\n",
    "* https://www.dataquest.io/course/kaggle-fundamentals"
   ]
  },
  {
   "cell_type": "markdown",
   "metadata": {
    "_cell_guid": "da777ede-a5a5-461a-a2aa-eb8b039d4448",
    "_uuid": "811c05d71fee644d42b73d1ba4eeda8106b637e9"
   },
   "source": [
    "## Further Reading\n",
    "\n",
    "* https://github.com/justmarkham/scikit-learn-videos"
   ]
  },
  {
   "cell_type": "markdown",
   "metadata": {
    "_cell_guid": "d7d31d8e-143d-46da-8c6e-04d24367d79a",
    "_uuid": "bd1a90d94ae4390726b89097c5408e1b4a1f5657"
   },
   "source": [
    "## THE END, WELL DONE!"
   ]
  },
  {
   "cell_type": "code",
   "execution_count": null,
   "metadata": {
    "_cell_guid": "9b7e4a04-344b-4e13-b56d-57b6ac28822f",
    "_uuid": "eb036811f0162244b4c8265e0df9999490f32167",
    "collapsed": true
   },
   "outputs": [],
   "source": []
  }
 ],
 "metadata": {
  "kernelspec": {
   "display_name": "Python 3",
   "language": "python",
   "name": "python3"
  },
  "language_info": {
   "codemirror_mode": {
    "name": "ipython",
    "version": 3
   },
   "file_extension": ".py",
   "mimetype": "text/x-python",
   "name": "python",
   "nbconvert_exporter": "python",
   "pygments_lexer": "ipython3",
   "version": "3.6.1"
  }
 },
 "nbformat": 4,
 "nbformat_minor": 1
}
