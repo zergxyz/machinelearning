{
  "cells": [
    {
      "metadata": {
        "trusted": true
      },
      "cell_type": "code",
      "source": "%matplotlib inline\nimport matplotlib.pyplot as plt\nimport numpy as np\nfrom sklearn import datasets, linear_model\nfrom sklearn.metrics import mean_squared_error, r2_score\n\n# Load the diabetes dataset\ndiabetes = datasets.load_diabetes()\nprint (diabetes.data.shape)",
      "execution_count": 1,
      "outputs": [
        {
          "output_type": "stream",
          "text": "(442, 10)\n",
          "name": "stdout"
        }
      ]
    },
    {
      "metadata": {
        "trusted": true
      },
      "cell_type": "code",
      "source": "# Use only one feature\n#diabetes_X = diabetes.data[:, np.newaxis, 2]\ndiabetes_X = diabetes.data\nprint(diabetes_X.shape)\n# Split the data into training/testing sets\ndiabetes_X_train = diabetes_X[:-20]\ndiabetes_X_test = diabetes_X[-20:]\n# Split the targets into training/testing sets\ndiabetes_y_train = diabetes.target[:-20]\ndiabetes_y_test = diabetes.target[-20:]",
      "execution_count": 2,
      "outputs": [
        {
          "output_type": "stream",
          "text": "(442, 10)\n",
          "name": "stdout"
        }
      ]
    },
    {
      "metadata": {
        "trusted": true
      },
      "cell_type": "code",
      "source": "# sklearn version \nregr = linear_model.LinearRegression()\nregr.fit(diabetes_X_train, diabetes_y_train)\ndiabetes_y_pred = regr.predict(diabetes_X_test)\n# The coefficients\nprint('Coefficients: \\n', regr.coef_)\n# The mean squared error\nprint(\"Mean squared error: %.2f\"\n      % mean_squared_error(diabetes_y_test, diabetes_y_pred))\n# Explained variance score: 1 is perfect prediction\nprint('Variance score: %.2f' % r2_score(diabetes_y_test, diabetes_y_pred))",
      "execution_count": 3,
      "outputs": [
        {
          "output_type": "stream",
          "text": "Coefficients: \n [ 3.03499549e-01 -2.37639315e+02  5.10530605e+02  3.27736980e+02\n -8.14131709e+02  4.92814588e+02  1.02848452e+02  1.84606489e+02\n  7.43519617e+02  7.60951722e+01]\nMean squared error: 2004.57\nVariance score: 0.59\n",
          "name": "stdout"
        }
      ]
    },
    {
      "metadata": {
        "trusted": true
      },
      "cell_type": "code",
      "source": "#numpy version \ndef costfunc (x, y, w):\n    err = 1/(2*x.shape[0])*np.sum((np.dot(x, w)-y.reshape(-1,1))**2)\n#     print(np.dot(x, w).shape)\n#     print(y.reshape(-1,1).shape)\n#     print((np.dot(x, w)-y.reshape(-1,1)).shape)\n    return err\n#print(costfunc(diabetes_X_train, diabetes_y_train, theta))\n\ndef gradientDesc(x, y, w, alpha=.01,iterations=150000):\n    m=x.shape[0]\n    for i in range(iterations):\n        loss = np.dot(x, w)-y.reshape(-1,1)\n        w=w-alpha*(1/m)*np.dot(x.T, loss)\n    print(np.dot(x.T, loss).shape)\n    return w\nb = np.hstack((diabetes_X_train, np.ones((diabetes_X_train.shape[0], 1))))\n#print(b.shape)\ntheta = np.zeros((11,1))\nv=gradientDesc(b, diabetes_y_train, theta)\nprint(costfunc(b, diabetes_y_train,v))\n#print(v)\n# print(diabetes_X_train[:2])\nb2 = np.hstack((diabetes_X_test, np.ones((diabetes_X_test.shape[0], 1))))\ndiabetes_y_pred = np.dot(b2, v)\nprint(\"Mean squared error: %.2f\"\n      % mean_squared_error(diabetes_y_test, diabetes_y_pred))\n# Explained variance score: 1 is perfect prediction\nprint('Variance score: %.2f' % r2_score(diabetes_y_test, diabetes_y_pred))",
      "execution_count": 4,
      "outputs": [
        {
          "output_type": "stream",
          "text": "(11, 1)\n1463.7291980175517\nMean squared error: 2046.89\nVariance score: 0.58\n",
          "name": "stdout"
        }
      ]
    },
    {
      "metadata": {
        "trusted": true
      },
      "cell_type": "code",
      "source": "import pandas as pd",
      "execution_count": 5,
      "outputs": []
    },
    {
      "metadata": {
        "trusted": true
      },
      "cell_type": "code",
      "source": "# df_X = pd.read_csv('http://cs229.stanford.edu/ps/ps1/logistic_x.txt', sep='\\ +', header=None, engine='python')\n# ys = pd.read_csv('http://cs229.stanford.edu/ps/ps1/logistic_y.txt', sep='\\ +', header=None, engine='python')\n# ys = ys.astype(int)",
      "execution_count": 7,
      "outputs": []
    },
    {
      "metadata": {
        "trusted": true
      },
      "cell_type": "code",
      "source": "",
      "execution_count": null,
      "outputs": []
    }
  ],
  "metadata": {
    "kernelspec": {
      "name": "python36",
      "display_name": "Python 3.6",
      "language": "python"
    },
    "language_info": {
      "mimetype": "text/x-python",
      "nbconvert_exporter": "python",
      "name": "python",
      "pygments_lexer": "ipython3",
      "version": "3.6.6",
      "file_extension": ".py",
      "codemirror_mode": {
        "version": 3,
        "name": "ipython"
      }
    }
  },
  "nbformat": 4,
  "nbformat_minor": 1
}