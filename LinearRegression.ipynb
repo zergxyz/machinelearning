{
 "cells": [
  {
   "cell_type": "code",
   "execution_count": 1,
   "metadata": {},
   "outputs": [
    {
     "name": "stdout",
     "output_type": "stream",
     "text": [
      "(442, 10)\n"
     ]
    }
   ],
   "source": [
    "%matplotlib inline\n",
    "import matplotlib.pyplot as plt\n",
    "import numpy as np\n",
    "from sklearn import datasets, linear_model\n",
    "from sklearn.metrics import mean_squared_error, r2_score\n",
    "\n",
    "# Load the diabetes dataset\n",
    "diabetes = datasets.load_diabetes()\n",
    "print (diabetes.data.shape)"
   ]
  },
  {
   "cell_type": "code",
   "execution_count": 2,
   "metadata": {},
   "outputs": [],
   "source": [
    "# Use only one feature\n",
    "#diabetes_X = diabetes.data[:, np.newaxis, 2]\n",
    "diabetes_X = diabetes.data\n",
    "#print(diabetes_X.shape)\n",
    "# Split the data into training/testing sets\n",
    "diabetes_X_train = diabetes_X[:-20]\n",
    "diabetes_X_test = diabetes_X[-20:]\n",
    "# Split the targets into training/testing sets\n",
    "diabetes_y_train = diabetes.target[:-20]\n",
    "diabetes_y_test = diabetes.target[-20:]"
   ]
  },
  {
   "cell_type": "code",
   "execution_count": 3,
   "metadata": {},
   "outputs": [
    {
     "name": "stdout",
     "output_type": "stream",
     "text": [
      "Coefficients: \n",
      " [ 3.03499549e-01 -2.37639315e+02  5.10530605e+02  3.27736980e+02\n",
      " -8.14131709e+02  4.92814588e+02  1.02848452e+02  1.84606489e+02\n",
      "  7.43519617e+02  7.60951722e+01]\n",
      "Mean squared error: 2004.57\n",
      "Variance score: 0.59\n"
     ]
    }
   ],
   "source": [
    "# sklearn version \n",
    "regr = linear_model.LinearRegression()\n",
    "regr.fit(diabetes_X_train, diabetes_y_train)\n",
    "diabetes_y_pred = regr.predict(diabetes_X_test)\n",
    "# The coefficients\n",
    "print('Coefficients: \\n', regr.coef_)\n",
    "# The mean squared error\n",
    "print(\"Mean squared error: %.2f\"\n",
    "      % mean_squared_error(diabetes_y_test, diabetes_y_pred))\n",
    "# Explained variance score: 1 is perfect prediction\n",
    "print('Variance score: %.2f' % r2_score(diabetes_y_test, diabetes_y_pred))"
   ]
  },
  {
   "cell_type": "code",
   "execution_count": 4,
   "metadata": {},
   "outputs": [
    {
     "name": "stdout",
     "output_type": "stream",
     "text": [
      "(11, 1)\n",
      "1463.7291980175517\n",
      "Mean squared error: 2046.89\n",
      "Variance score: 0.58\n"
     ]
    }
   ],
   "source": [
    "#numpy version \n",
    "def costfunc (x, y, w):\n",
    "    err = 1/(2*x.shape[0])*np.sum((np.dot(x, w)-y.reshape(-1,1))**2)\n",
    "#     print(np.dot(x, w).shape)\n",
    "#     print(y.reshape(-1,1).shape)\n",
    "#     print((np.dot(x, w)-y.reshape(-1,1)).shape)\n",
    "    return err\n",
    "#print(costfunc(diabetes_X_train, diabetes_y_train, theta))\n",
    "\n",
    "def gradientDesc(x, y, w, alpha=.01,iterations=150000):\n",
    "    m=x.shape[0]\n",
    "    for i in range(iterations):\n",
    "        loss = np.dot(x, w)-y.reshape(-1,1)\n",
    "        w=w-alpha*(1/m)*np.dot(x.T, loss)\n",
    "    print(np.dot(x.T, loss).shape)\n",
    "    return w\n",
    "b = np.hstack((diabetes_X_train, np.ones((diabetes_X_train.shape[0], 1))))\n",
    "#print(b.shape)\n",
    "theta = np.zeros((11,1))\n",
    "v=gradientDesc(b, diabetes_y_train, theta)\n",
    "print(costfunc(b, diabetes_y_train,v))\n",
    "#print(v)\n",
    "# print(diabetes_X_train[:2])\n",
    "b2 = np.hstack((diabetes_X_test, np.ones((diabetes_X_test.shape[0], 1))))\n",
    "diabetes_y_pred = np.dot(b2, v)\n",
    "print(\"Mean squared error: %.2f\"\n",
    "      % mean_squared_error(diabetes_y_test, diabetes_y_pred))\n",
    "# Explained variance score: 1 is perfect prediction\n",
    "print('Variance score: %.2f' % r2_score(diabetes_y_test, diabetes_y_pred))"
   ]
  },
  {
   "cell_type": "code",
   "execution_count": 24,
   "metadata": {},
   "outputs": [
    {
     "name": "stdout",
     "output_type": "stream",
     "text": [
      "Mean squared error: 2001.96\n",
      "Variance score: 0.59\n"
     ]
    }
   ],
   "source": [
    "# ridge regression (L2 norm regularization) \n",
    "from sklearn.linear_model import Ridge\n",
    "#reg = Ridge(alpha = 0.005, normalize=True, solver=\"saga\" )\n",
    "reg = Ridge(alpha = 0.005)\n",
    "reg.fit(diabetes_X_train, diabetes_y_train)\n",
    "diabetes_y_pred = reg.predict(diabetes_X_test)\n",
    "# The coefficients\n",
    "# print('Coefficients: \\n', regr.coef_)\n",
    "# The mean squared error\n",
    "print(\"Mean squared error: %.2f\"\n",
    "      % mean_squared_error(diabetes_y_test, diabetes_y_pred))\n",
    "# Explained variance score: 1 is perfect prediction\n",
    "print('Variance score: %.2f' % r2_score(diabetes_y_test, diabetes_y_pred))"
   ]
  },
  {
   "cell_type": "code",
   "execution_count": 7,
   "metadata": {},
   "outputs": [],
   "source": [
    "# df_X = pd.read_csv('http://cs229.stanford.edu/ps/ps1/logistic_x.txt', sep='\\ +', header=None, engine='python')\n",
    "# ys = pd.read_csv('http://cs229.stanford.edu/ps/ps1/logistic_y.txt', sep='\\ +', header=None, engine='python')\n",
    "# ys = ys.astype(int)"
   ]
  },
  {
   "cell_type": "code",
   "execution_count": null,
   "metadata": {},
   "outputs": [],
   "source": []
  }
 ],
 "metadata": {
  "kernelspec": {
   "display_name": "Python 3",
   "language": "python",
   "name": "python3"
  },
  "language_info": {
   "codemirror_mode": {
    "name": "ipython",
    "version": 3
   },
   "file_extension": ".py",
   "mimetype": "text/x-python",
   "name": "python",
   "nbconvert_exporter": "python",
   "pygments_lexer": "ipython3",
   "version": "3.6.4"
  }
 },
 "nbformat": 4,
 "nbformat_minor": 1
}
